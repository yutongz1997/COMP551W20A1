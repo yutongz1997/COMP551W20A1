{
 "cells": [
  {
   "cell_type": "code",
   "execution_count": 8,
   "metadata": {},
   "outputs": [],
   "source": [
    "import numpy as np\n",
    "import pandas as pd\n",
    "import csv\n",
    "import matplotlib.pyplot as plt"
   ]
  },
  {
   "cell_type": "code",
   "execution_count": 9,
   "metadata": {},
   "outputs": [],
   "source": [
    "def removeQMark(A, sp):\n",
    "    flag = 0;\n",
    "    for i in range (sp,len(A)):\n",
    "        for j in range (len(A[i])):\n",
    "            if(A[i][j] == '?'):\n",
    "                A = np.delete(A,i,0)\n",
    "                flag = 1;\n",
    "                break\n",
    "        if(flag == 1):\n",
    "            break\n",
    "    if(flag ==1):\n",
    "        return removeQMark(A,i)\n",
    "    else:\n",
    "        return A"
   ]
  },
  {
   "cell_type": "code",
   "execution_count": 10,
   "metadata": {},
   "outputs": [],
   "source": [
    "# breast cancer\n",
    "df_breast_cancer = pd.read_csv(\"breast-cancer.data\", header=None, delimiter=r\",\",)\n",
    "data_breast_cancer = df_breast_cancer.values\n",
    "data_breast_cancer = removeQMark(data_breast_cancer,0)"
   ]
  },
  {
   "cell_type": "code",
   "execution_count": 24,
   "metadata": {},
   "outputs": [
    {
     "data": {
      "image/png": "[encoded data removed]",
      "text/plain": [
       "<Figure size 432x288 with 1 Axes>"
      ]
     },
     "metadata": {
      "needs_background": "light"
     },
     "output_type": "display_data"
    }
   ],
   "source": [
    "df_breast_cancer.columns = ['Class','age','menopause','tumor-size','inv-nodes','node-caps','deg-malig','breast','breast-quad','irradiat']\n",
    "pd.crosstab(df_breast_cancer['age'],df_breast_cancer['Class']).plot.bar()\n",
    "plt.savefig('ageVSclass.pdf',bbox_inches = \"tight\")"
   ]
  },
  {
   "cell_type": "code",
   "execution_count": 12,
   "metadata": {},
   "outputs": [],
   "source": [
    "dict = {\n",
    "    'no-recurrence-events': 0,\n",
    "    'recurrence-events': 1,\n",
    "}\n",
    "for i in range (len(data_breast_cancer[:,0])):\n",
    "    data_breast_cancer[i,0] = data_breast_cancer[i, 0].strip()\n",
    "    data_breast_cancer[i,0] = dict[data_breast_cancer[i, 0]]"
   ]
  },
  {
   "cell_type": "code",
   "execution_count": 13,
   "metadata": {},
   "outputs": [],
   "source": [
    "dict = {\n",
    "    '10-19': 0,\n",
    "    '20-29': 1,\n",
    "    '30-39': 2,\n",
    "    '40-49': 3,\n",
    "    '50-59': 4,\n",
    "    '60-69': 5,\n",
    "    '70-79': 6,\n",
    "    '80-89': 7,\n",
    "    '90-99': 8,\n",
    "}\n",
    "for i in range (len(data_breast_cancer[:,1])):\n",
    "    data_breast_cancer[i,1] = data_breast_cancer[i, 1].strip()\n",
    "    data_breast_cancer[i,1] = dict[data_breast_cancer[i, 1]]"
   ]
  },
  {
   "cell_type": "code",
   "execution_count": 14,
   "metadata": {},
   "outputs": [],
   "source": [
    "dict = {\n",
    "    'lt40': 0,\n",
    "    'ge40': 1,\n",
    "    'premeno': 2,\n",
    "}\n",
    "for i in range (len(data_breast_cancer[:,2])):\n",
    "    data_breast_cancer[i,2] = data_breast_cancer[i, 2].strip()\n",
    "    data_breast_cancer[i,2] = dict[data_breast_cancer[i, 2]]"
   ]
  },
  {
   "cell_type": "code",
   "execution_count": 15,
   "metadata": {},
   "outputs": [],
   "source": [
    "dict = {\n",
    "    '0-4': 0,\n",
    "    '5-9': 1,\n",
    "    '10-14': 2,\n",
    "    '15-19': 3,\n",
    "    '20-24': 4,\n",
    "    '25-29': 5,\n",
    "    '30-34': 6,\n",
    "    '35-39': 7,\n",
    "    '40-44': 8,\n",
    "    '45-49': 9,\n",
    "    '50-54': 10,\n",
    "    '55-59': 11,\n",
    "}\n",
    "for i in range (len(data_breast_cancer[:,3])):\n",
    "    data_breast_cancer[i,3] = data_breast_cancer[i, 3].strip()\n",
    "    data_breast_cancer[i,3] = dict[data_breast_cancer[i, 3]]"
   ]
  },
  {
   "cell_type": "code",
   "execution_count": 16,
   "metadata": {},
   "outputs": [],
   "source": [
    "dict = {\n",
    "    '0-2': 0,\n",
    "    '3-5': 1,\n",
    "    '6-8': 2,\n",
    "    '9-11':3,\n",
    "    '12-14':4,\n",
    "    '15-17':5,\n",
    "    '18-20':6,\n",
    "    '21-23':7,\n",
    "    '24-26':8, \n",
    "    '27-29':9,\n",
    "    '30-32':10,\n",
    "    '33-35':11,\n",
    "    '36-39':12,\n",
    "}\n",
    "for i in range (len(data_breast_cancer[:,4])):\n",
    "    data_breast_cancer[i,4] = data_breast_cancer[i, 4].strip()\n",
    "    data_breast_cancer[i,4] = dict[data_breast_cancer[i, 4]]"
   ]
  },
  {
   "cell_type": "code",
   "execution_count": 17,
   "metadata": {},
   "outputs": [],
   "source": [
    "dict = {\n",
    "    'yes': 0,\n",
    "    'no': 1,\n",
    "}\n",
    "for i in range (len(data_breast_cancer[:,5])):\n",
    "    data_breast_cancer[i,5] = data_breast_cancer[i, 5].strip()\n",
    "    data_breast_cancer[i,5] = dict[data_breast_cancer[i, 5]]"
   ]
  },
  {
   "cell_type": "code",
   "execution_count": 18,
   "metadata": {},
   "outputs": [],
   "source": [
    "dict = {\n",
    "    1: 0,\n",
    "    2: 1,\n",
    "    3: 2,\n",
    "}\n",
    "for i in range (len(data_breast_cancer[:,6])):\n",
    "    #data_breast_cancer[i,6] = data_breast_cancer[i, 6].strip()\n",
    "    data_breast_cancer[i,6] = dict[data_breast_cancer[i, 6]]"
   ]
  },
  {
   "cell_type": "code",
   "execution_count": 19,
   "metadata": {},
   "outputs": [],
   "source": [
    "dict = {\n",
    "    'left': 0,\n",
    "    'right': 1,\n",
    "}\n",
    "for i in range (len(data_breast_cancer[:,7])):\n",
    "    data_breast_cancer[i,7] = data_breast_cancer[i, 7].strip()\n",
    "    data_breast_cancer[i,7] = dict[data_breast_cancer[i, 7]]"
   ]
  },
  {
   "cell_type": "code",
   "execution_count": 20,
   "metadata": {},
   "outputs": [],
   "source": [
    "dict = {\n",
    "    'left_up': 0,\n",
    "    'left_low': 1,\n",
    "    'right_up': 2,\n",
    "    'right_low' : 3,\n",
    "    'central' : 4,\n",
    "}\n",
    "for i in range (len(data_breast_cancer[:,8])):\n",
    "    data_breast_cancer[i,8] = data_breast_cancer[i, 8].strip()\n",
    "    data_breast_cancer[i,8] = dict[data_breast_cancer[i, 8]]\n"
   ]
  },
  {
   "cell_type": "code",
   "execution_count": 21,
   "metadata": {},
   "outputs": [],
   "source": [
    "dict = {\n",
    "    'yes': 0,\n",
    "    'no': 1,\n",
    "}\n",
    "for i in range (len(data_breast_cancer[:,9])):\n",
    "    data_breast_cancer[i,9] = data_breast_cancer[i, 9].strip()\n",
    "    data_breast_cancer[i,9] = dict[data_breast_cancer[i, 9]]"
   ]
  },
  {
   "cell_type": "code",
   "execution_count": 22,
   "metadata": {},
   "outputs": [],
   "source": [
    "with open('breast_cancer_processed.csv', 'w', newline='') as file:\n",
    "    writer = csv.writer(file)\n",
    "    for i in range (len(data_breast_cancer)):\n",
    "        writer.writerow(data_breast_cancer[i])"
   ]
  },
  {
   "cell_type": "code",
   "execution_count": 27,
   "metadata": {},
   "outputs": [],
   "source": [
    "tohe = np.array([[]])\n",
    "ohe = np.array([])\n",
    "discrete = [1,2,3,4,6,8]\n",
    "discrete_length = [9,3,12,13,3,5]\n",
    "def one_hot(rowNum,colNum):\n",
    "    for z in range (discrete_length[colNum]):\n",
    "        if(data_breast_cancer[rowNum][discrete[colNum]] == z):\n",
    "            zer = np.zeros(discrete_length[colNum]-1)\n",
    "            if(z!=0):\n",
    "                zer[z-1] = 1\n",
    "            break\n",
    "    return zer"
   ]
  },
  {
   "cell_type": "code",
   "execution_count": 30,
   "metadata": {},
   "outputs": [],
   "source": [
    "# one-hot encoding\n",
    "for i in range (len(data_breast_cancer)):\n",
    "    ohe = np.array([])\n",
    "    for j in range (len(data_breast_cancer[i])):\n",
    "        flag = 0\n",
    "        for k in range (len(discrete)):\n",
    "            if j == float(discrete[k]) :\n",
    "                app = one_hot(i,k)\n",
    "                ohe = np.append(ohe, app)\n",
    "                flag = 1\n",
    "                break\n",
    "        if(flag !=1):\n",
    "            ohe = np.append(ohe,data_breast_cancer[i][j])\n",
    "    if(i == 0 ):\n",
    "        tohe = ohe.reshape(1,43)\n",
    "    else:\n",
    "        tohe = np.append(tohe,ohe.reshape(1,43),axis = 0)"
   ]
  },
  {
   "cell_type": "code",
   "execution_count": 31,
   "metadata": {},
   "outputs": [],
   "source": [
    "with open('breast_cancer_processedOHE.csv', 'w', newline='') as file:\n",
    "    writer = csv.writer(file)\n",
    "    for i in range (len(tohe)):\n",
    "        writer.writerow(tohe[i])"
   ]
  },
  {
   "cell_type": "code",
   "execution_count": 36,
   "metadata": {},
   "outputs": [
    {
     "data": {
      "image/png": "[encoded data removed]",
      "text/plain": [
       "<Figure size 720x720 with 2 Axes>"
      ]
     },
     "metadata": {
      "needs_background": "light"
     },
     "output_type": "display_data"
    }
   ],
   "source": [
    "from scipy import stats\n",
    "\n",
    "corr = df_breast_cancer.corr()\n",
    "fig = plt.figure(figsize=(10,10))\n",
    "ax = fig.add_subplot(111)\n",
    "cax = ax.matshow(corr,cmap='coolwarm', vmin=-1, vmax=1)\n",
    "fig.colorbar(cax)\n",
    "ticks = np.arange(0,len(df_breast_cancer.columns),1)\n",
    "ax.set_xticks(ticks)\n",
    "plt.xticks(rotation=90)\n",
    "ax.set_yticks(ticks)\n",
    "ax.set_xticklabels(df_breast_cancer.columns)\n",
    "ax.set_yticklabels(df_breast_cancer.columns)\n",
    "plt.show()"
   ]
  },
  {
   "cell_type": "code",
   "execution_count": null,
   "metadata": {},
   "outputs": [],
   "source": []
  }
 ],
 "metadata": {
  "kernelspec": {
   "display_name": "Python 3",
   "language": "python",
   "name": "python3"
  },
  "language_info": {
   "codemirror_mode": {
    "name": "ipython",
    "version": 3
   },
   "file_extension": ".py",
   "mimetype": "text/x-python",
   "name": "python",
   "nbconvert_exporter": "python",
   "pygments_lexer": "ipython3",
   "version": "3.6.8"
  }
 },
 "nbformat": 4,
 "nbformat_minor": 2
}
