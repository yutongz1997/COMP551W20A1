{
 "cells": [
  {
   "cell_type": "code",
   "execution_count": 33,
   "metadata": {},
   "outputs": [],
   "source": [
    "import numpy as np\n",
    "import pandas as pd\n",
    "import csv"
   ]
  },
  {
   "cell_type": "code",
   "execution_count": 34,
   "metadata": {},
   "outputs": [],
   "source": [
    "def removeQMark(A, sp):\n",
    "    flag = 0;\n",
    "    for i in range (sp,len(A)):\n",
    "        for j in range (len(A[i])):\n",
    "            if(A[i][j] == '?'):\n",
    "                A = np.delete(A,i,0)\n",
    "                flag = 1;\n",
    "                break\n",
    "        if(flag == 1):\n",
    "            break\n",
    "    if(flag ==1):\n",
    "        return removeQMark(A,i)\n",
    "    else:\n",
    "        return A"
   ]
  },
  {
   "cell_type": "code",
   "execution_count": 35,
   "metadata": {},
   "outputs": [],
   "source": [
    "# breast cancer\n",
    "df_breast_cancer = pd.read_csv(\"breast-cancer.data\", header=None, delimiter=r\",\",)\n",
    "data_breast_cancer = df_breast_cancer.values\n",
    "data_breast_cancer = removeQMark(data_breast_cancer,0)"
   ]
  },
  {
   "cell_type": "code",
   "execution_count": 36,
   "metadata": {},
   "outputs": [],
   "source": [
    "dict = {\n",
    "    'no-recurrence-events': 0,\n",
    "    'recurrence-events': 1,\n",
    "}\n",
    "for i in range (len(data_breast_cancer[:,0])):\n",
    "    data_breast_cancer[i,0] = data_breast_cancer[i, 0].strip()\n",
    "    data_breast_cancer[i,0] = dict[data_breast_cancer[i, 0]]"
   ]
  },
  {
   "cell_type": "code",
   "execution_count": 37,
   "metadata": {},
   "outputs": [],
   "source": [
    "dict = {\n",
    "    '10-19': 0,\n",
    "    '20-29': 1,\n",
    "    '30-39': 2,\n",
    "    '40-49': 3,\n",
    "    '50-59': 4,\n",
    "    '60-69': 5,\n",
    "    '70-79': 6,\n",
    "    '80-89': 7,\n",
    "    '90-99': 8,\n",
    "}\n",
    "for i in range (len(data_breast_cancer[:,1])):\n",
    "    data_breast_cancer[i,1] = data_breast_cancer[i, 1].strip()\n",
    "    data_breast_cancer[i,1] = dict[data_breast_cancer[i, 1]]"
   ]
  },
  {
   "cell_type": "code",
   "execution_count": 38,
   "metadata": {},
   "outputs": [],
   "source": [
    "dict = {\n",
    "    'lt40': 0,\n",
    "    'ge40': 1,\n",
    "    'premeno': 2,\n",
    "}\n",
    "for i in range (len(data_breast_cancer[:,2])):\n",
    "    data_breast_cancer[i,2] = data_breast_cancer[i, 2].strip()\n",
    "    data_breast_cancer[i,2] = dict[data_breast_cancer[i, 2]]"
   ]
  },
  {
   "cell_type": "code",
   "execution_count": 39,
   "metadata": {},
   "outputs": [],
   "source": [
    "dict = {\n",
    "    '0-4': 0,\n",
    "    '5-9': 1,\n",
    "    '10-14': 2,\n",
    "    '15-19': 3,\n",
    "    '20-24': 4,\n",
    "    '25-29': 5,\n",
    "    '30-34': 6,\n",
    "    '35-39': 7,\n",
    "    '40-44': 8,\n",
    "    '45-49': 9,\n",
    "    '50-54': 10,\n",
    "    '55-59': 11,\n",
    "}\n",
    "for i in range (len(data_breast_cancer[:,3])):\n",
    "    data_breast_cancer[i,3] = data_breast_cancer[i, 3].strip()\n",
    "    data_breast_cancer[i,3] = dict[data_breast_cancer[i, 3]]"
   ]
  },
  {
   "cell_type": "code",
   "execution_count": 40,
   "metadata": {},
   "outputs": [],
   "source": [
    "dict = {\n",
    "    '0-2': 0,\n",
    "    '3-5': 1,\n",
    "    '6-8': 2,\n",
    "    '9-11':3,\n",
    "    '12-14':4,\n",
    "    '15-17':5,\n",
    "    '18-20':6,\n",
    "    '21-23':7,\n",
    "    '24-26':8, \n",
    "    '27-29':9,\n",
    "    '30-32':10,\n",
    "    '33-35':11,\n",
    "    '36-39':12,\n",
    "}\n",
    "for i in range (len(data_breast_cancer[:,4])):\n",
    "    data_breast_cancer[i,4] = data_breast_cancer[i, 4].strip()\n",
    "    data_breast_cancer[i,4] = dict[data_breast_cancer[i, 4]]"
   ]
  },
  {
   "cell_type": "code",
   "execution_count": 41,
   "metadata": {},
   "outputs": [],
   "source": [
    "dict = {\n",
    "    'yes': 0,\n",
    "    'no': 1,\n",
    "}\n",
    "for i in range (len(data_breast_cancer[:,5])):\n",
    "    data_breast_cancer[i,5] = data_breast_cancer[i, 5].strip()\n",
    "    data_breast_cancer[i,5] = dict[data_breast_cancer[i, 5]]"
   ]
  },
  {
   "cell_type": "code",
   "execution_count": 42,
   "metadata": {},
   "outputs": [],
   "source": [
    "dict = {\n",
    "    1: 0,\n",
    "    2: 1,\n",
    "    3: 2,\n",
    "}\n",
    "for i in range (len(data_breast_cancer[:,6])):\n",
    "    #data_breast_cancer[i,6] = data_breast_cancer[i, 6].strip()\n",
    "    data_breast_cancer[i,6] = dict[data_breast_cancer[i, 6]]"
   ]
  },
  {
   "cell_type": "code",
   "execution_count": 43,
   "metadata": {},
   "outputs": [],
   "source": [
    "dict = {\n",
    "    'left': 0,\n",
    "    'right': 1,\n",
    "}\n",
    "for i in range (len(data_breast_cancer[:,7])):\n",
    "    data_breast_cancer[i,7] = data_breast_cancer[i, 7].strip()\n",
    "    data_breast_cancer[i,7] = dict[data_breast_cancer[i, 7]]"
   ]
  },
  {
   "cell_type": "code",
   "execution_count": 44,
   "metadata": {},
   "outputs": [],
   "source": [
    "dict = {\n",
    "    'left_up': 0,\n",
    "    'left_low': 1,\n",
    "    'right_up': 2,\n",
    "    'right_low' : 3,\n",
    "    'central' : 4,\n",
    "}\n",
    "for i in range (len(data_breast_cancer[:,8])):\n",
    "    data_breast_cancer[i,8] = data_breast_cancer[i, 8].strip()\n",
    "    data_breast_cancer[i,8] = dict[data_breast_cancer[i, 8]]\n"
   ]
  },
  {
   "cell_type": "code",
   "execution_count": 45,
   "metadata": {},
   "outputs": [],
   "source": [
    "dict = {\n",
    "    'yes': 0,\n",
    "    'no': 1,\n",
    "}\n",
    "for i in range (len(data_breast_cancer[:,9])):\n",
    "    data_breast_cancer[i,9] = data_breast_cancer[i, 9].strip()\n",
    "    data_breast_cancer[i,9] = dict[data_breast_cancer[i, 9]]"
   ]
  },
  {
   "cell_type": "code",
   "execution_count": 46,
   "metadata": {},
   "outputs": [],
   "source": [
    "with open('breast_cancer_processed.csv', 'w', newline='') as file:\n",
    "    writer = csv.writer(file)\n",
    "    for i in range (len(data_breast_cancer)):\n",
    "        writer.writerow(data_breast_cancer[i])"
   ]
  }
 ],
 "metadata": {
  "kernelspec": {
   "display_name": "Python 3",
   "language": "python",
   "name": "python3"
  },
  "language_info": {
   "codemirror_mode": {
    "name": "ipython",
    "version": 3
   },
   "file_extension": ".py",
   "mimetype": "text/x-python",
   "name": "python",
   "nbconvert_exporter": "python",
   "pygments_lexer": "ipython3",
   "version": "3.6.8"
  }
 },
 "nbformat": 4,
 "nbformat_minor": 2
}
