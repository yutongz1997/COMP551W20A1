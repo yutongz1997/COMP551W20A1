{
 "cells": [
  {
   "cell_type": "code",
   "execution_count": 2,
   "metadata": {},
   "outputs": [],
   "source": [
    "import numpy as np\n",
    "import pandas as pd\n",
    "import csv"
   ]
  },
  {
   "cell_type": "code",
   "execution_count": 3,
   "metadata": {},
   "outputs": [],
   "source": [
    "def removeQMark(A, sp):\n",
    "    flag = 0;\n",
    "    for i in range (sp,len(A)):\n",
    "        for j in range (len(A[i])):\n",
    "            if(A[i][j] == ' ?'):\n",
    "                A = np.delete(A,i,0)\n",
    "                flag = 1;\n",
    "                break\n",
    "        if(flag == 1):\n",
    "            break\n",
    "    if(flag ==1):\n",
    "        return removeQMark(A,i)\n",
    "    else:\n",
    "        return A"
   ]
  },
  {
   "cell_type": "code",
   "execution_count": 4,
   "metadata": {},
   "outputs": [],
   "source": [
    "# ionosphere \n",
    "df_ion = pd.read_csv(\"ionosphere.data\", header=None, delimiter=r\",\",)\n",
    "data_ion = df_ion.values\n",
    "data_ion = np.delete(data_ion,1,1)\n",
    "X_ion = data_ion[:, :32]\n",
    "Y_ion = data_ion[:, 33]\n",
    "for i in range (len(Y_ion)):\n",
    "    if Y_ion[i] == 'g' :\n",
    "        Y_ion[i] = 1\n",
    "    else:\n",
    "        Y_ion[i] = 0"
   ]
  },
  {
   "cell_type": "code",
   "execution_count": 5,
   "metadata": {},
   "outputs": [
    {
     "name": "stdout",
     "output_type": "stream",
     "text": [
      "[[1 0.99539 -0.05889 ... 0.42267 -0.54487 0.18641]\n",
      " [1 1.0 -0.18829 ... -0.16626 -0.06287999999999999 -0.13738]\n",
      " [1 1.0 -0.03365 ... 0.60436 -0.2418 0.56045]\n",
      " ...\n",
      " [1 0.94701 -0.00033999999999999997 ... 0.9245899999999999 0.00442\n",
      "  0.9269700000000001]\n",
      " [1 0.9060799999999999 -0.016569999999999998 ... 0.9602200000000001\n",
      "  -0.03757 0.87403]\n",
      " [1 0.8471 0.13533 ... 0.75747 -0.06677999999999999 0.85764]]\n",
      "[1 0 1 0 1 0 1 0 1 0 1 0 1 0 1 0 1 0 1 0 1 0 1 0 1 0 1 0 1 0 1 0 1 0 1 0 1\n",
      " 0 1 0 1 0 1 0 1 0 1 0 1 0 1 0 1 0 1 0 1 0 1 0 1 0 1 0 1 0 1 0 1 0 1 0 1 0\n",
      " 1 0 1 0 1 0 1 0 1 0 1 0 1 0 1 0 1 0 1 0 1 0 1 1 0 1 0 1 0 1 0 1 0 1 0 1 0\n",
      " 1 0 1 0 1 0 1 0 1 0 1 0 1 0 1 0 1 0 1 0 1 0 1 0 1 0 1 0 1 0 1 0 1 0 1 0 1\n",
      " 0 1 0 1 0 1 0 1 0 1 0 1 0 1 0 1 0 1 0 1 0 1 0 1 0 1 0 1 0 1 0 1 0 1 0 1 0\n",
      " 1 0 1 0 1 0 1 0 1 0 1 0 1 0 1 0 1 0 1 0 1 0 1 0 1 0 1 0 1 0 1 0 1 0 1 0 1\n",
      " 0 1 0 1 0 1 0 1 0 1 0 1 0 1 0 1 0 1 0 1 0 1 0 1 0 1 0 1 0 1 0 1 1 1 1 1 1\n",
      " 1 1 1 1 1 1 1 1 1 1 1 1 1 1 1 1 1 1 1 1 1 1 1 1 1 1 1 1 1 1 1 1 1 1 1 1 1\n",
      " 1 1 1 1 1 1 1 1 1 1 1 1 1 1 1 1 1 1 1 1 1 1 1 1 1 1 1 1 1 1 1 1 1 1 1 1 1\n",
      " 1 1 1 1 1 1 1 1 1 1 1 1 1 1 1 1 1 1]\n"
     ]
    }
   ],
   "source": [
    "print(X_ion)\n",
    "print(Y_ion)"
   ]
  },
  {
   "cell_type": "code",
   "execution_count": 6,
   "metadata": {},
   "outputs": [],
   "source": [
    "#adult\n",
    "df_adult = pd.read_csv(\"adult.data\", header=None, delimiter=r\",\",)\n",
    "data_adult = df_adult.values\n",
    "data_adult = removeQMark(data_adult,0)\n",
    "X_adult = data_adult[:,:15]\n",
    "#Y_adult = data_adult[:,14]"
   ]
  },
  {
   "cell_type": "code",
   "execution_count": 7,
   "metadata": {},
   "outputs": [
    {
     "name": "stdout",
     "output_type": "stream",
     "text": [
      "       0                  1       2              3   4   \\\n",
      "0      39          State-gov   77516      Bachelors  13   \n",
      "1      50   Self-emp-not-inc   83311      Bachelors  13   \n",
      "2      38            Private  215646        HS-grad   9   \n",
      "3      53            Private  234721           11th   7   \n",
      "4      28            Private  338409      Bachelors  13   \n",
      "5      37            Private  284582        Masters  14   \n",
      "6      49            Private  160187            9th   5   \n",
      "7      52   Self-emp-not-inc  209642        HS-grad   9   \n",
      "8      31            Private   45781        Masters  14   \n",
      "9      42            Private  159449      Bachelors  13   \n",
      "10     37            Private  280464   Some-college  10   \n",
      "11     30          State-gov  141297      Bachelors  13   \n",
      "12     23            Private  122272      Bachelors  13   \n",
      "13     32            Private  205019     Assoc-acdm  12   \n",
      "14     40            Private  121772      Assoc-voc  11   \n",
      "15     34            Private  245487        7th-8th   4   \n",
      "16     25   Self-emp-not-inc  176756        HS-grad   9   \n",
      "17     32            Private  186824        HS-grad   9   \n",
      "18     38            Private   28887           11th   7   \n",
      "19     43   Self-emp-not-inc  292175        Masters  14   \n",
      "20     40            Private  193524      Doctorate  16   \n",
      "21     54            Private  302146        HS-grad   9   \n",
      "22     35        Federal-gov   76845            9th   5   \n",
      "23     43            Private  117037           11th   7   \n",
      "24     59            Private  109015        HS-grad   9   \n",
      "25     56          Local-gov  216851      Bachelors  13   \n",
      "26     19            Private  168294        HS-grad   9   \n",
      "27     54                  ?  180211   Some-college  10   \n",
      "28     39            Private  367260        HS-grad   9   \n",
      "29     49            Private  193366        HS-grad   9   \n",
      "...    ..                ...     ...            ...  ..   \n",
      "32531  30                  ?   33811      Bachelors  13   \n",
      "32532  34            Private  204461      Doctorate  16   \n",
      "32533  54            Private  337992      Bachelors  13   \n",
      "32534  37            Private  179137   Some-college  10   \n",
      "32535  22            Private  325033           12th   8   \n",
      "32536  34            Private  160216      Bachelors  13   \n",
      "32537  30            Private  345898        HS-grad   9   \n",
      "32538  38            Private  139180      Bachelors  13   \n",
      "32539  71                  ?  287372      Doctorate  16   \n",
      "32540  45          State-gov  252208        HS-grad   9   \n",
      "32541  41                  ?  202822        HS-grad   9   \n",
      "32542  72                  ?  129912        HS-grad   9   \n",
      "32543  45          Local-gov  119199     Assoc-acdm  12   \n",
      "32544  31            Private  199655        Masters  14   \n",
      "32545  39          Local-gov  111499     Assoc-acdm  12   \n",
      "32546  37            Private  198216     Assoc-acdm  12   \n",
      "32547  43            Private  260761        HS-grad   9   \n",
      "32548  65   Self-emp-not-inc   99359    Prof-school  15   \n",
      "32549  43          State-gov  255835   Some-college  10   \n",
      "32550  43   Self-emp-not-inc   27242   Some-college  10   \n",
      "32551  32            Private   34066           10th   6   \n",
      "32552  43            Private   84661      Assoc-voc  11   \n",
      "32553  32            Private  116138        Masters  14   \n",
      "32554  53            Private  321865        Masters  14   \n",
      "32555  22            Private  310152   Some-college  10   \n",
      "32556  27            Private  257302     Assoc-acdm  12   \n",
      "32557  40            Private  154374        HS-grad   9   \n",
      "32558  58            Private  151910        HS-grad   9   \n",
      "32559  22            Private  201490        HS-grad   9   \n",
      "32560  52       Self-emp-inc  287927        HS-grad   9   \n",
      "\n",
      "                           5                   6                7   \\\n",
      "0               Never-married        Adm-clerical    Not-in-family   \n",
      "1          Married-civ-spouse     Exec-managerial          Husband   \n",
      "2                    Divorced   Handlers-cleaners    Not-in-family   \n",
      "3          Married-civ-spouse   Handlers-cleaners          Husband   \n",
      "4          Married-civ-spouse      Prof-specialty             Wife   \n",
      "5          Married-civ-spouse     Exec-managerial             Wife   \n",
      "6       Married-spouse-absent       Other-service    Not-in-family   \n",
      "7          Married-civ-spouse     Exec-managerial          Husband   \n",
      "8               Never-married      Prof-specialty    Not-in-family   \n",
      "9          Married-civ-spouse     Exec-managerial          Husband   \n",
      "10         Married-civ-spouse     Exec-managerial          Husband   \n",
      "11         Married-civ-spouse      Prof-specialty          Husband   \n",
      "12              Never-married        Adm-clerical        Own-child   \n",
      "13              Never-married               Sales    Not-in-family   \n",
      "14         Married-civ-spouse        Craft-repair          Husband   \n",
      "15         Married-civ-spouse    Transport-moving          Husband   \n",
      "16              Never-married     Farming-fishing        Own-child   \n",
      "17              Never-married   Machine-op-inspct        Unmarried   \n",
      "18         Married-civ-spouse               Sales          Husband   \n",
      "19                   Divorced     Exec-managerial        Unmarried   \n",
      "20         Married-civ-spouse      Prof-specialty          Husband   \n",
      "21                  Separated       Other-service        Unmarried   \n",
      "22         Married-civ-spouse     Farming-fishing          Husband   \n",
      "23         Married-civ-spouse    Transport-moving          Husband   \n",
      "24                   Divorced        Tech-support        Unmarried   \n",
      "25         Married-civ-spouse        Tech-support          Husband   \n",
      "26              Never-married        Craft-repair        Own-child   \n",
      "27         Married-civ-spouse                   ?          Husband   \n",
      "28                   Divorced     Exec-managerial    Not-in-family   \n",
      "29         Married-civ-spouse        Craft-repair          Husband   \n",
      "...                       ...                 ...              ...   \n",
      "32531           Never-married                   ?    Not-in-family   \n",
      "32532      Married-civ-spouse      Prof-specialty          Husband   \n",
      "32533      Married-civ-spouse     Exec-managerial          Husband   \n",
      "32534                Divorced        Adm-clerical        Unmarried   \n",
      "32535           Never-married     Protective-serv        Own-child   \n",
      "32536           Never-married     Exec-managerial    Not-in-family   \n",
      "32537           Never-married        Craft-repair    Not-in-family   \n",
      "32538                Divorced      Prof-specialty        Unmarried   \n",
      "32539      Married-civ-spouse                   ?          Husband   \n",
      "32540               Separated        Adm-clerical        Own-child   \n",
      "32541               Separated                   ?    Not-in-family   \n",
      "32542      Married-civ-spouse                   ?          Husband   \n",
      "32543                Divorced      Prof-specialty        Unmarried   \n",
      "32544                Divorced       Other-service    Not-in-family   \n",
      "32545      Married-civ-spouse        Adm-clerical             Wife   \n",
      "32546                Divorced        Tech-support    Not-in-family   \n",
      "32547      Married-civ-spouse   Machine-op-inspct          Husband   \n",
      "32548           Never-married      Prof-specialty    Not-in-family   \n",
      "32549                Divorced        Adm-clerical   Other-relative   \n",
      "32550      Married-civ-spouse        Craft-repair          Husband   \n",
      "32551      Married-civ-spouse   Handlers-cleaners          Husband   \n",
      "32552      Married-civ-spouse               Sales          Husband   \n",
      "32553           Never-married        Tech-support    Not-in-family   \n",
      "32554      Married-civ-spouse     Exec-managerial          Husband   \n",
      "32555           Never-married     Protective-serv    Not-in-family   \n",
      "32556      Married-civ-spouse        Tech-support             Wife   \n",
      "32557      Married-civ-spouse   Machine-op-inspct          Husband   \n",
      "32558                 Widowed        Adm-clerical        Unmarried   \n",
      "32559           Never-married        Adm-clerical        Own-child   \n",
      "32560      Married-civ-spouse     Exec-managerial             Wife   \n",
      "\n",
      "                        8        9      10    11  12              13      14  \n",
      "0                    White     Male   2174     0  40   United-States   <=50K  \n",
      "1                    White     Male      0     0  13   United-States   <=50K  \n",
      "2                    White     Male      0     0  40   United-States   <=50K  \n",
      "3                    Black     Male      0     0  40   United-States   <=50K  \n",
      "4                    Black   Female      0     0  40            Cuba   <=50K  \n",
      "5                    White   Female      0     0  40   United-States   <=50K  \n",
      "6                    Black   Female      0     0  16         Jamaica   <=50K  \n",
      "7                    White     Male      0     0  45   United-States    >50K  \n",
      "8                    White   Female  14084     0  50   United-States    >50K  \n",
      "9                    White     Male   5178     0  40   United-States    >50K  \n",
      "10                   Black     Male      0     0  80   United-States    >50K  \n",
      "11      Asian-Pac-Islander     Male      0     0  40           India    >50K  \n",
      "12                   White   Female      0     0  30   United-States   <=50K  \n",
      "13                   Black     Male      0     0  50   United-States   <=50K  \n",
      "14      Asian-Pac-Islander     Male      0     0  40               ?    >50K  \n",
      "15      Amer-Indian-Eskimo     Male      0     0  45          Mexico   <=50K  \n",
      "16                   White     Male      0     0  35   United-States   <=50K  \n",
      "17                   White     Male      0     0  40   United-States   <=50K  \n",
      "18                   White     Male      0     0  50   United-States   <=50K  \n",
      "19                   White   Female      0     0  45   United-States    >50K  \n",
      "20                   White     Male      0     0  60   United-States    >50K  \n",
      "21                   Black   Female      0     0  20   United-States   <=50K  \n",
      "22                   Black     Male      0     0  40   United-States   <=50K  \n",
      "23                   White     Male      0  2042  40   United-States   <=50K  \n",
      "24                   White   Female      0     0  40   United-States   <=50K  \n",
      "25                   White     Male      0     0  40   United-States    >50K  \n",
      "26                   White     Male      0     0  40   United-States   <=50K  \n",
      "27      Asian-Pac-Islander     Male      0     0  60           South    >50K  \n",
      "28                   White     Male      0     0  80   United-States   <=50K  \n",
      "29                   White     Male      0     0  40   United-States   <=50K  \n",
      "...                    ...      ...    ...   ...  ..             ...     ...  \n",
      "32531   Asian-Pac-Islander   Female      0     0  99   United-States   <=50K  \n",
      "32532                White     Male      0     0  60   United-States    >50K  \n",
      "32533   Asian-Pac-Islander     Male      0     0  50           Japan    >50K  \n",
      "32534                White   Female      0     0  39   United-States   <=50K  \n",
      "32535                Black     Male      0     0  35   United-States   <=50K  \n",
      "32536                White   Female      0     0  55   United-States    >50K  \n",
      "32537                Black     Male      0     0  46   United-States   <=50K  \n",
      "32538                Black   Female  15020     0  45   United-States    >50K  \n",
      "32539                White     Male      0     0  10   United-States    >50K  \n",
      "32540                White   Female      0     0  40   United-States   <=50K  \n",
      "32541                Black   Female      0     0  32   United-States   <=50K  \n",
      "32542                White     Male      0     0  25   United-States   <=50K  \n",
      "32543                White   Female      0     0  48   United-States   <=50K  \n",
      "32544                Other   Female      0     0  30   United-States   <=50K  \n",
      "32545                White   Female      0     0  20   United-States    >50K  \n",
      "32546                White   Female      0     0  40   United-States   <=50K  \n",
      "32547                White     Male      0     0  40          Mexico   <=50K  \n",
      "32548                White     Male   1086     0  60   United-States   <=50K  \n",
      "32549                White   Female      0     0  40   United-States   <=50K  \n",
      "32550                White     Male      0     0  50   United-States   <=50K  \n",
      "32551   Amer-Indian-Eskimo     Male      0     0  40   United-States   <=50K  \n",
      "32552                White     Male      0     0  45   United-States   <=50K  \n",
      "32553   Asian-Pac-Islander     Male      0     0  11          Taiwan   <=50K  \n",
      "32554                White     Male      0     0  40   United-States    >50K  \n",
      "32555                White     Male      0     0  40   United-States   <=50K  \n",
      "32556                White   Female      0     0  38   United-States   <=50K  \n",
      "32557                White     Male      0     0  40   United-States    >50K  \n",
      "32558                White   Female      0     0  40   United-States   <=50K  \n",
      "32559                White     Male      0     0  20   United-States   <=50K  \n",
      "32560                White   Female  15024     0  40   United-States    >50K  \n",
      "\n",
      "[32561 rows x 15 columns]\n",
      "[[39 ' State-gov' 77516 ... 40 ' United-States' ' <=50K']\n",
      " [50 ' Self-emp-not-inc' 83311 ... 13 ' United-States' ' <=50K']\n",
      " [38 ' Private' 215646 ... 40 ' United-States' ' <=50K']\n",
      " ...\n",
      " [58 ' Private' 151910 ... 40 ' United-States' ' <=50K']\n",
      " [22 ' Private' 201490 ... 20 ' United-States' ' <=50K']\n",
      " [52 ' Self-emp-inc' 287927 ... 40 ' United-States' ' >50K']]\n"
     ]
    }
   ],
   "source": [
    "print(df_adult)\n",
    "print(X_adult)\n",
    "#print(Y_adult)"
   ]
  },
  {
   "cell_type": "code",
   "execution_count": 8,
   "metadata": {},
   "outputs": [],
   "source": [
    "lis = [0,2,4,10,11,12]\n",
    "for i in range (len(lis)):\n",
    "    Max = np.max(X_adult[:,lis[i]])\n",
    "    Min = np.min(X_adult[:,lis[i]])\n",
    "    Max_diff = Max-Min\n",
    "    for j in range (len(X_adult[:,lis[i]])):\n",
    "        X_adult[j,lis[i]] = (X_adult[j,lis[i]] - Min)/Max_diff"
   ]
  },
  {
   "cell_type": "code",
   "execution_count": 9,
   "metadata": {},
   "outputs": [
    {
     "name": "stdout",
     "output_type": "stream",
     "text": [
      "[5 1 0 ... 0 0 2]\n"
     ]
    }
   ],
   "source": [
    "dict = {\n",
    "    'Private': 0,\n",
    "    'Self-emp-not-inc': 1,\n",
    "    'Self-emp-inc': 2,\n",
    "    'Federal-gov': 3,\n",
    "    'Local-gov': 4,\n",
    "    'State-gov': 5,\n",
    "    'Without-pay': 6,\n",
    "    'Never-worked': 7,\n",
    "}\n",
    "for i in range (len(X_adult[:,1])):\n",
    "    X_adult[i,1] = X_adult[i, 1].strip()\n",
    "    X_adult[i,1] = dict[X_adult[i,1]]\n",
    "print(X_adult[:,1])"
   ]
  },
  {
   "cell_type": "code",
   "execution_count": 10,
   "metadata": {},
   "outputs": [
    {
     "name": "stdout",
     "output_type": "stream",
     "text": [
      "[0 0 3 ... 3 3 3]\n"
     ]
    }
   ],
   "source": [
    "dict = {\n",
    "    'Bachelors': 0,\n",
    "    'Some-college': 1,\n",
    "    '11th': 2,\n",
    "    'HS-grad': 3,\n",
    "    'Prof-school': 4,\n",
    "    'Assoc-acdm': 5,\n",
    "    'Assoc-voc': 6,\n",
    "    '9th': 7,\n",
    "    '7th-8th': 8,\n",
    "    '12th': 9,\n",
    "    'Masters': 10,\n",
    "    '1st-4th': 11,\n",
    "    '10th': 12,\n",
    "    'Doctorate': 12,\n",
    "    '5th-6th': 13,\n",
    "    'Preschool': 14,\n",
    "}\n",
    "for i in range (len(X_adult[:,3])):\n",
    "    X_adult[i,3] = X_adult[i, 3].strip()\n",
    "    X_adult[i,3] = dict[X_adult[i, 3]]\n",
    "print(X_adult[:,3])"
   ]
  },
  {
   "cell_type": "code",
   "execution_count": 11,
   "metadata": {},
   "outputs": [
    {
     "name": "stdout",
     "output_type": "stream",
     "text": [
      "[2 0 1 ... 4 2 0]\n"
     ]
    }
   ],
   "source": [
    "dict = {\n",
    "    'Married-civ-spouse': 0,\n",
    "    'Divorced': 1,\n",
    "    'Never-married': 2,\n",
    "    'Separated': 3,\n",
    "    'Widowed': 4,\n",
    "    'Married-spouse-absent': 5,\n",
    "    'Married-AF-spouse': 6,\n",
    "}\n",
    "for i in range (len(X_adult[:,5])):\n",
    "    X_adult[i,5] = X_adult[i, 5].strip()\n",
    "    X_adult[i, 5] = dict[X_adult[i, 5]]\n",
    "print(X_adult[:, 5])"
   ]
  },
  {
   "cell_type": "code",
   "execution_count": 12,
   "metadata": {},
   "outputs": [
    {
     "name": "stdout",
     "output_type": "stream",
     "text": [
      "[8 4 6 ... 8 8 4]\n"
     ]
    }
   ],
   "source": [
    "dict = {\n",
    "    'Tech-support': 0,\n",
    "    'Craft-repair': 1,\n",
    "    'Other-service': 2,\n",
    "    'Sales': 3,\n",
    "    'Exec-managerial': 4,\n",
    "    'Prof-specialty': 5,\n",
    "    'Handlers-cleaners': 6,\n",
    "    'Machine-op-inspct': 7,\n",
    "    'Adm-clerical': 8,\n",
    "    'Farming-fishing': 9,\n",
    "    'Transport-moving': 10,\n",
    "    'Priv-house-serv': 11,\n",
    "    'Protective-serv': 12,\n",
    "    'Armed-Forces': 13,\n",
    "}\n",
    "for i in range (len(X_adult[:,6])):\n",
    "    X_adult[i,6] = X_adult[i, 6].strip()\n",
    "    X_adult[i, 6] = dict[X_adult[i, 6]]\n",
    "print(X_adult[:, 6])"
   ]
  },
  {
   "cell_type": "code",
   "execution_count": 13,
   "metadata": {},
   "outputs": [
    {
     "name": "stdout",
     "output_type": "stream",
     "text": [
      "[3 2 3 ... 5 1 0]\n"
     ]
    }
   ],
   "source": [
    "dict = {\n",
    "    'Wife': 0,\n",
    "    'Own-child': 1,\n",
    "    'Husband': 2,\n",
    "    'Not-in-family': 3,\n",
    "    'Other-relative': 4,\n",
    "    'Unmarried': 5,\n",
    "}\n",
    "for i in range (len(X_adult[:,7])):\n",
    "    X_adult[i,7] = X_adult[i, 7].strip()\n",
    "    X_adult[i, 7] = dict[X_adult[i, 7]]\n",
    "print(X_adult[:, 7])"
   ]
  },
  {
   "cell_type": "code",
   "execution_count": 14,
   "metadata": {},
   "outputs": [
    {
     "name": "stdout",
     "output_type": "stream",
     "text": [
      "[0 0 0 ... 0 0 0]\n"
     ]
    }
   ],
   "source": [
    "dict = {\n",
    "    'White': 0,\n",
    "    'Asian-Pac-Islander': 1,\n",
    "    'Amer-Indian-Eskimo': 2,\n",
    "    'Other': 3,\n",
    "    'Black': 4,\n",
    "}\n",
    "for i in range (len(X_adult[:,8])):\n",
    "    X_adult[i,8] = X_adult[i, 8].strip()\n",
    "    X_adult[i, 8] = dict[X_adult[i, 8]]\n",
    "print(X_adult[:, 8])"
   ]
  },
  {
   "cell_type": "code",
   "execution_count": 15,
   "metadata": {},
   "outputs": [
    {
     "name": "stdout",
     "output_type": "stream",
     "text": [
      "[1 1 1 ... 0 1 0]\n"
     ]
    }
   ],
   "source": [
    "dict = {\n",
    "    'Female': 0,\n",
    "    'Male': 1,\n",
    "}\n",
    "for i in range (len(X_adult[:,9])):\n",
    "    X_adult[i,9] = X_adult[i, 9].strip()\n",
    "    X_adult[i, 9] = dict[X_adult[i, 9]]\n",
    "print(X_adult[:, 9])"
   ]
  },
  {
   "cell_type": "code",
   "execution_count": 16,
   "metadata": {},
   "outputs": [
    {
     "name": "stdout",
     "output_type": "stream",
     "text": [
      "[0 0 0 ... 0 0 0]\n"
     ]
    }
   ],
   "source": [
    "dict = {\n",
    "    'United-States': 0,\n",
    "    'Cambodia': 1,\n",
    "    'England' : 2,\n",
    "    'Puerto-Rico': 3,\n",
    "    'Canada': 4,\n",
    "    'Germany' : 5,\n",
    "    'Outlying-US(Guam-USVI-etc)': 6,\n",
    "    'India': 7,\n",
    "    'Japan' : 8,\n",
    "    'Greece': 9,\n",
    "    'South': 10,\n",
    "    'China' : 11,\n",
    "    'Cuba' : 12,\n",
    "    'Iran' : 13,\n",
    "    'Honduras' : 14,\n",
    "    'Philippines' : 15,\n",
    "    'Italy' : 16,\n",
    "    'Poland' : 17,\n",
    "    'Jamaica' : 18,\n",
    "    'Vietnam' : 19,\n",
    "    'Mexico' : 20,\n",
    "    'Portugal' : 21,\n",
    "    'Ireland' : 22,\n",
    "    'France' : 23,\n",
    "    'Dominican-Republic' : 24,\n",
    "    'Laos' : 25,\n",
    "    'Ecuador' : 26,\n",
    "    'Taiwan' : 27,\n",
    "    'Haiti' : 28,\n",
    "    'Columbia' : 29,\n",
    "    'Hungary' : 30,\n",
    "    'Guatemala' : 31,\n",
    "    'Nicaragua' : 32,\n",
    "    'Scotland' : 33,\n",
    "    'Thailand' : 34,\n",
    "    'Yugoslavia' : 35,\n",
    "    'El-Salvador' : 36,\n",
    "    'Trinadad&Tobago' : 37,\n",
    "    'Peru' : 38,\n",
    "    'Hong' : 39,\n",
    "    'Holand-Netherlands' : 40,\n",
    "}\n",
    "for i in range (len(X_adult[:,13])):\n",
    "    X_adult[i,13] = X_adult[i, 13].strip()\n",
    "    X_adult[i, 13] = dict[X_adult[i, 13]]\n",
    "print(X_adult[:, 13])"
   ]
  },
  {
   "cell_type": "code",
   "execution_count": 17,
   "metadata": {},
   "outputs": [
    {
     "name": "stdout",
     "output_type": "stream",
     "text": [
      "[1 1 1 ... 1 1 0]\n"
     ]
    }
   ],
   "source": [
    "dict = {\n",
    "    '>50K': 0,\n",
    "    '<=50K': 1,\n",
    "}\n",
    "for i in range (len(X_adult[:,14])):\n",
    "    X_adult[i,14] = X_adult[i,14].strip()\n",
    "    X_adult[i,14] = dict[X_adult[i,14]]\n",
    "print(X_adult[:,14])"
   ]
  },
  {
   "cell_type": "code",
   "execution_count": 18,
   "metadata": {},
   "outputs": [
    {
     "name": "stdout",
     "output_type": "stream",
     "text": [
      "[[0.3013698630136986 5 0.04333771149798496 ... 0.3979591836734694 0 1]\n",
      " [0.4520547945205479 1 0.047277379845214206 ... 0.12244897959183673 0 1]\n",
      " [0.2876712328767123 0 0.1372439045614493 ... 0.3979591836734694 0 1]\n",
      " ...\n",
      " [0.5616438356164384 0 0.09391367129501216 ... 0.3979591836734694 0 1]\n",
      " [0.0684931506849315 0 0.12762010039865773 ... 0.19387755102040816 0 1]\n",
      " [0.4794520547945205 2 0.1863833640620666 ... 0.3979591836734694 0 0]]\n"
     ]
    }
   ],
   "source": [
    "print(X_adult)\n",
    "#print(Y_adult)"
   ]
  },
  {
   "cell_type": "code",
   "execution_count": 19,
   "metadata": {},
   "outputs": [],
   "source": [
    "with open('adult_processed.csv', 'w', newline='') as file:\n",
    "    writer = csv.writer(file)\n",
    "    for i in range (len(X_adult)):\n",
    "        writer.writerow(X_adult[i])"
   ]
  },
  {
   "cell_type": "code",
   "execution_count": null,
   "metadata": {},
   "outputs": [],
   "source": []
  }
 ],
 "metadata": {
  "kernelspec": {
   "display_name": "Python 3",
   "language": "python",
   "name": "python3"
  },
  "language_info": {
   "codemirror_mode": {
    "name": "ipython",
    "version": 3
   },
   "file_extension": ".py",
   "mimetype": "text/x-python",
   "name": "python",
   "nbconvert_exporter": "python",
   "pygments_lexer": "ipython3",
   "version": "3.6.8"
  }
 },
 "nbformat": 4,
 "nbformat_minor": 2
}
