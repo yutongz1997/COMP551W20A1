{
 "cells": [
  {
   "cell_type": "code",
   "execution_count": 50,
   "metadata": {},
   "outputs": [],
   "source": [
    "import numpy as np\n",
    "import pandas as pd\n",
    "import csv\n",
    "import matplotlib.pyplot as plt"
   ]
  },
  {
   "cell_type": "code",
   "execution_count": 51,
   "metadata": {},
   "outputs": [],
   "source": [
    "def removeQMark(A, sp):\n",
    "    flag = 0;\n",
    "    for i in range (sp,len(A)):\n",
    "        for j in range (len(A[i])):\n",
    "            if(A[i][j] == '?'):\n",
    "                A = np.delete(A,i,0)\n",
    "                flag = 1;\n",
    "                break\n",
    "        if(flag == 1):\n",
    "            break\n",
    "    if(flag ==1):\n",
    "        return removeQMark(A,i)\n",
    "    else:\n",
    "        return A"
   ]
  },
  {
   "cell_type": "code",
   "execution_count": 52,
   "metadata": {},
   "outputs": [],
   "source": [
    "# crx \n",
    "df_crx = pd.read_csv(\"crx.data\", header=None, delimiter=r\",\",)\n",
    "data_crx = df_crx.values\n",
    "data_crx = removeQMark(data_crx,0)"
   ]
  },
  {
   "cell_type": "code",
   "execution_count": 53,
   "metadata": {},
   "outputs": [
    {
     "data": {
      "image/png": "[encoded data removed]",
      "text/plain": [
       "<Figure size 432x288 with 1 Axes>"
      ]
     },
     "metadata": {
      "needs_background": "light"
     },
     "output_type": "display_data"
    }
   ],
   "source": [
    "df_crx.columns = ['0','1','2','3','4','5','6','7','8','9','10','11','12','13','14','15']\n",
    "pd.crosstab(df_crx['3'],df_crx['15']).plot.bar()\n",
    "plt.savefig('2VS14.pdf',bbox_inches = \"tight\")"
   ]
  },
  {
   "cell_type": "code",
   "execution_count": 54,
   "metadata": {},
   "outputs": [
    {
     "name": "stdout",
     "output_type": "stream",
     "text": [
      "     0      1       2  3  4   5   6       7  8  9  10 11 12     13     14 15\n",
      "0    b  30.83   0.000  u  g   w   v   1.250  t  t   1  f  g  00202      0  +\n",
      "1    a  58.67   4.460  u  g   q   h   3.040  t  t   6  f  g  00043    560  +\n",
      "2    a  24.50   0.500  u  g   q   h   1.500  t  f   0  f  g  00280    824  +\n",
      "3    b  27.83   1.540  u  g   w   v   3.750  t  t   5  t  g  00100      3  +\n",
      "4    b  20.17   5.625  u  g   w   v   1.710  t  f   0  f  s  00120      0  +\n",
      "5    b  32.08   4.000  u  g   m   v   2.500  t  f   0  t  g  00360      0  +\n",
      "6    b  33.17   1.040  u  g   r   h   6.500  t  f   0  t  g  00164  31285  +\n",
      "7    a  22.92  11.585  u  g  cc   v   0.040  t  f   0  f  g  00080   1349  +\n",
      "8    b  54.42   0.500  y  p   k   h   3.960  t  f   0  f  g  00180    314  +\n",
      "9    b  42.50   4.915  y  p   w   v   3.165  t  f   0  t  g  00052   1442  +\n",
      "10   b  22.08   0.830  u  g   c   h   2.165  f  f   0  t  g  00128      0  +\n",
      "11   b  29.92   1.835  u  g   c   h   4.335  t  f   0  f  g  00260    200  +\n",
      "12   a  38.25   6.000  u  g   k   v   1.000  t  f   0  t  g  00000      0  +\n",
      "13   b  48.08   6.040  u  g   k   v   0.040  f  f   0  f  g  00000   2690  +\n",
      "14   a  45.83  10.500  u  g   q   v   5.000  t  t   7  t  g  00000      0  +\n",
      "15   b  36.67   4.415  y  p   k   v   0.250  t  t  10  t  g  00320      0  +\n",
      "16   b  28.25   0.875  u  g   m   v   0.960  t  t   3  t  g  00396      0  +\n",
      "17   a  23.25   5.875  u  g   q   v   3.170  t  t  10  f  g  00120    245  +\n",
      "18   b  21.83   0.250  u  g   d   h   0.665  t  f   0  t  g  00000      0  +\n",
      "19   a  19.17   8.585  u  g  cc   h   0.750  t  t   7  f  g  00096      0  +\n",
      "20   b  25.00  11.250  u  g   c   v   2.500  t  t  17  f  g  00200   1208  +\n",
      "21   b  23.25   1.000  u  g   c   v   0.835  t  f   0  f  s  00300      0  +\n",
      "22   a  47.75   8.000  u  g   c   v   7.875  t  t   6  t  g  00000   1260  +\n",
      "23   a  27.42  14.500  u  g   x   h   3.085  t  t   1  f  g  00120     11  +\n",
      "24   a  41.17   6.500  u  g   q   v   0.500  t  t   3  t  g  00145      0  +\n",
      "25   a  15.83   0.585  u  g   c   h   1.500  t  t   2  f  g  00100      0  +\n",
      "26   a  47.00  13.000  u  g   i  bb   5.165  t  t   9  t  g  00000      0  +\n",
      "27   b  56.58  18.500  u  g   d  bb  15.000  t  t  17  t  g  00000      0  +\n",
      "28   b  57.42   8.500  u  g   e   h   7.000  t  t   3  f  g  00000      0  +\n",
      "29   b  42.08   1.040  u  g   w   v   5.000  t  t   6  t  g  00500  10000  +\n",
      "..  ..    ...     ... .. ..  ..  ..     ... .. ..  .. .. ..    ...    ... ..\n",
      "660  b  22.25   9.000  u  g  aa   v   0.085  f  f   0  f  g  00000      0  -\n",
      "661  b  29.83   3.500  u  g   c   v   0.165  f  f   0  f  g  00216      0  -\n",
      "662  a  23.50   1.500  u  g   w   v   0.875  f  f   0  t  g  00160      0  -\n",
      "663  b  32.08   4.000  y  p  cc   v   1.500  f  f   0  t  g  00120      0  -\n",
      "664  b  31.08   1.500  y  p   w   v   0.040  f  f   0  f  s  00160      0  -\n",
      "665  b  31.83   0.040  y  p   m   v   0.040  f  f   0  f  g  00000      0  -\n",
      "666  a  21.75  11.750  u  g   c   v   0.250  f  f   0  t  g  00180      0  -\n",
      "667  a  17.92   0.540  u  g   c   v   1.750  f  t   1  t  g  00080      5  -\n",
      "668  b  30.33   0.500  u  g   d   h   0.085  f  f   0  t  s  00252      0  -\n",
      "669  b  51.83   2.040  y  p  ff  ff   1.500  f  f   0  f  g  00120      1  -\n",
      "670  b  47.17   5.835  u  g   w   v   5.500  f  f   0  f  g  00465    150  -\n",
      "671  b  25.83  12.835  u  g  cc   v   0.500  f  f   0  f  g  00000      2  -\n",
      "672  a  50.25   0.835  u  g  aa   v   0.500  f  f   0  t  g  00240    117  -\n",
      "673  ?  29.50   2.000  y  p   e   h   2.000  f  f   0  f  g  00256     17  -\n",
      "674  a  37.33   2.500  u  g   i   h   0.210  f  f   0  f  g  00260    246  -\n",
      "675  a  41.58   1.040  u  g  aa   v   0.665  f  f   0  f  g  00240    237  -\n",
      "676  a  30.58  10.665  u  g   q   h   0.085  f  t  12  t  g  00129      3  -\n",
      "677  b  19.42   7.250  u  g   m   v   0.040  f  t   1  f  g  00100      1  -\n",
      "678  a  17.92  10.210  u  g  ff  ff   0.000  f  f   0  f  g  00000     50  -\n",
      "679  a  20.08   1.250  u  g   c   v   0.000  f  f   0  f  g  00000      0  -\n",
      "680  b  19.50   0.290  u  g   k   v   0.290  f  f   0  f  g  00280    364  -\n",
      "681  b  27.83   1.000  y  p   d   h   3.000  f  f   0  f  g  00176    537  -\n",
      "682  b  17.08   3.290  u  g   i   v   0.335  f  f   0  t  g  00140      2  -\n",
      "683  b  36.42   0.750  y  p   d   v   0.585  f  f   0  f  g  00240      3  -\n",
      "684  b  40.58   3.290  u  g   m   v   3.500  f  f   0  t  s  00400      0  -\n",
      "685  b  21.08  10.085  y  p   e   h   1.250  f  f   0  f  g  00260      0  -\n",
      "686  a  22.67   0.750  u  g   c   v   2.000  f  t   2  t  g  00200    394  -\n",
      "687  a  25.25  13.500  y  p  ff  ff   2.000  f  t   1  t  g  00200      1  -\n",
      "688  b  17.92   0.205  u  g  aa   v   0.040  f  f   0  f  g  00280    750  -\n",
      "689  b  35.00   3.375  u  g   c   h   8.290  f  f   0  t  g  00000      0  -\n",
      "\n",
      "[690 rows x 16 columns]\n"
     ]
    }
   ],
   "source": [
    "print(df_crx)"
   ]
  },
  {
   "cell_type": "code",
   "execution_count": 55,
   "metadata": {},
   "outputs": [],
   "source": [
    "lis = [1,2,7,10,13,14]\n",
    "for i in range (len(lis)): \n",
    "    Max = np.max(data_crx[:,lis[i]].astype(float))\n",
    "    Min = np.min(data_crx[:,lis[i]].astype(float))\n",
    "    Max_diff =Max-Min\n",
    "    for j in range (len(data_crx[:,lis[i]])):\n",
    "        data_crx[j,lis[i]] = (float(data_crx[j,lis[i]]) - Min)/Max_diff"
   ]
  },
  {
   "cell_type": "code",
   "execution_count": 56,
   "metadata": {},
   "outputs": [],
   "source": [
    "dict = {\n",
    "    'b': 0,\n",
    "    'a': 1,\n",
    "}\n",
    "for i in range (len(data_crx[:,0])):\n",
    "    data_crx[i,0] = data_crx[i, 0].strip()\n",
    "    data_crx[i,0] = dict[data_crx[i, 0]]"
   ]
  },
  {
   "cell_type": "code",
   "execution_count": 57,
   "metadata": {},
   "outputs": [],
   "source": [
    "dict = {\n",
    "    'u': 0,\n",
    "    'y': 1,\n",
    "    'l': 2,\n",
    "    't': 3,\n",
    "}\n",
    "for i in range (len(data_crx[:,3])):\n",
    "    data_crx[i,3] = data_crx[i, 3].strip()\n",
    "    data_crx[i,3] = dict[data_crx[i, 3]]"
   ]
  },
  {
   "cell_type": "code",
   "execution_count": 58,
   "metadata": {},
   "outputs": [],
   "source": [
    "dict = {\n",
    "    'g': 0,\n",
    "    'p': 1,\n",
    "    'gg': 2,\n",
    "}\n",
    "for i in range (len(data_crx[:,4])):\n",
    "    data_crx[i,4] = data_crx[i, 4].strip()\n",
    "    data_crx[i,4] = dict[data_crx[i, 4]]"
   ]
  },
  {
   "cell_type": "code",
   "execution_count": 59,
   "metadata": {},
   "outputs": [],
   "source": [
    "dict = {\n",
    "    'c': 0,\n",
    "    'd': 1,\n",
    "    'cc':2,\n",
    "    'i': 3,\n",
    "    'j': 4,\n",
    "    'k': 5,\n",
    "    'm': 6,\n",
    "    'r': 7,\n",
    "    'q': 8,\n",
    "    'w': 9,\n",
    "    'x': 10,\n",
    "    'e': 11,\n",
    "    'aa': 12,\n",
    "    'ff': 13,\n",
    "}\n",
    "for i in range (len(data_crx[:,5])):\n",
    "    data_crx[i,5] = data_crx[i, 5].strip()\n",
    "    data_crx[i,5] = dict[data_crx[i, 5]]"
   ]
  },
  {
   "cell_type": "code",
   "execution_count": 60,
   "metadata": {},
   "outputs": [],
   "source": [
    "dict = {\n",
    "    'v': 0,\n",
    "    'h': 1,\n",
    "    'bb':2,\n",
    "    'j': 3,\n",
    "    'n': 4,\n",
    "    'z': 5,\n",
    "    'dd':6,\n",
    "    'ff':7,\n",
    "    'o' :8,\n",
    "}\n",
    "for i in range (len(data_crx[:,6])):\n",
    "    data_crx[i,6] = data_crx[i, 6].strip()\n",
    "    data_crx[i,6] = dict[data_crx[i, 6]]"
   ]
  },
  {
   "cell_type": "code",
   "execution_count": 61,
   "metadata": {},
   "outputs": [],
   "source": [
    "dict = {\n",
    "    't': 0,\n",
    "    'f': 1,\n",
    "}\n",
    "for i in range (len(data_crx[:,8])):\n",
    "    data_crx[i,8] = data_crx[i, 8].strip()\n",
    "    data_crx[i,8] = dict[data_crx[i, 8]]"
   ]
  },
  {
   "cell_type": "code",
   "execution_count": 62,
   "metadata": {},
   "outputs": [],
   "source": [
    "dict = {\n",
    "    't': 0,\n",
    "    'f': 1,\n",
    "}\n",
    "for i in range (len(data_crx[:,9])):\n",
    "    data_crx[i,9] = data_crx[i, 9].strip()\n",
    "    data_crx[i,9] = dict[data_crx[i, 9]]"
   ]
  },
  {
   "cell_type": "code",
   "execution_count": 63,
   "metadata": {},
   "outputs": [],
   "source": [
    "dict = {\n",
    "    't': 0,\n",
    "    'f': 1,\n",
    "}\n",
    "for i in range (len(data_crx[:,11])):\n",
    "    data_crx[i,11] = data_crx[i, 11].strip()\n",
    "    data_crx[i,11] = dict[data_crx[i, 11]]"
   ]
  },
  {
   "cell_type": "code",
   "execution_count": 64,
   "metadata": {},
   "outputs": [],
   "source": [
    "dict = {\n",
    "    'g': 0,\n",
    "    'p': 1,\n",
    "    's': 2,\n",
    "}\n",
    "for i in range (len(data_crx[:,12])):\n",
    "    data_crx[i,12] = data_crx[i, 12].strip()\n",
    "    data_crx[i,12] = dict[data_crx[i, 12]]"
   ]
  },
  {
   "cell_type": "code",
   "execution_count": 65,
   "metadata": {},
   "outputs": [],
   "source": [
    "dict = {\n",
    "    '+': 0,\n",
    "    '-': 1,\n",
    "}\n",
    "for i in range (len(data_crx[:,15])):\n",
    "    data_crx[i,15] = data_crx[i, 15].strip()\n",
    "    data_crx[i,15] = dict[data_crx[i, 15]]"
   ]
  },
  {
   "cell_type": "code",
   "execution_count": 66,
   "metadata": {},
   "outputs": [],
   "source": [
    "with open('crx_processed.csv', 'w', newline='') as file:\n",
    "    writer = csv.writer(file)\n",
    "    for i in range (len(data_crx)):\n",
    "        writer.writerow(data_crx[i])"
   ]
  },
  {
   "cell_type": "code",
   "execution_count": 174,
   "metadata": {},
   "outputs": [
    {
     "name": "stdout",
     "output_type": "stream",
     "text": [
      "[0 0.2711111111111111 0.0 0 0 9 0 0.043859649122807015 0 0\n",
      " 0.014925373134328358 1 0 0.101 0.0 0]\n"
     ]
    }
   ],
   "source": [
    "print(data_crx[0])"
   ]
  },
  {
   "cell_type": "code",
   "execution_count": 211,
   "metadata": {},
   "outputs": [],
   "source": [
    "tohe = np.array([[]])\n",
    "ohe = np.array([])\n",
    "discrete = [3,4,5,6,12]\n",
    "discrete_length = [4,3,14,9,3]\n",
    "def one_hot(rowNum,colNum):\n",
    "    for z in range (discrete_length[colNum]):\n",
    "        if(data_crx[rowNum][discrete[colNum]] == z):\n",
    "            zer = np.zeros(discrete_length[colNum]-1)\n",
    "            if(z!=0):\n",
    "                zer[z-1] = 1\n",
    "            break\n",
    "    return zer"
   ]
  },
  {
   "cell_type": "code",
   "execution_count": 212,
   "metadata": {},
   "outputs": [],
   "source": [
    "for j in range (len(data_crx[0])):\n",
    "        flag = 0\n",
    "        for k in range (len(discrete)):\n",
    "            if j == float(discrete[k]) :\n",
    "                app = one_hot(0,k)\n",
    "                ohe = np.append(ohe, app)\n",
    "                flag = 1\n",
    "                break\n",
    "        if(flag !=1):\n",
    "            ohe = np.append(ohe,data_crx[0][j])\n"
   ]
  },
  {
   "cell_type": "code",
   "execution_count": 213,
   "metadata": {},
   "outputs": [],
   "source": [
    "# one-hot encoding\n",
    "for i in range (len(data_crx)):\n",
    "    ohe = np.array([])\n",
    "    for j in range (len(data_crx[i])):\n",
    "        flag = 0\n",
    "        for k in range (len(discrete)):\n",
    "            if j == float(discrete[k]) :\n",
    "                app = one_hot(i,k)\n",
    "                ohe = np.append(ohe, app)\n",
    "                flag = 1\n",
    "                break\n",
    "        if(flag !=1):\n",
    "            ohe = np.append(ohe,data_crx[i][j])\n",
    "    if(i == 0 ):\n",
    "        tohe = ohe.reshape(1,39)\n",
    "    else:\n",
    "        tohe = np.append(tohe,ohe.reshape(1,39),axis = 0)"
   ]
  },
  {
   "cell_type": "code",
   "execution_count": 221,
   "metadata": {},
   "outputs": [
    {
     "name": "stdout",
     "output_type": "stream",
     "text": [
      "[[0.00000000e+00 2.71111111e-01 0.00000000e+00 ... 1.01000000e-01\n",
      "  0.00000000e+00 0.00000000e+00]\n",
      " [1.00000000e+00 7.13015873e-01 1.59285714e-01 ... 2.15000000e-02\n",
      "  5.60000000e-03 0.00000000e+00]\n",
      " [1.00000000e+00 1.70634921e-01 1.78571429e-02 ... 1.40000000e-01\n",
      "  8.24000000e-03 0.00000000e+00]\n",
      " ...\n",
      " [1.00000000e+00 1.82539683e-01 4.82142857e-01 ... 1.00000000e-01\n",
      "  1.00000000e-05 1.00000000e+00]\n",
      " [0.00000000e+00 6.61904762e-02 7.32142857e-03 ... 1.40000000e-01\n",
      "  7.50000000e-03 1.00000000e+00]\n",
      " [0.00000000e+00 3.37301587e-01 1.20535714e-01 ... 0.00000000e+00\n",
      "  0.00000000e+00 1.00000000e+00]]\n"
     ]
    }
   ],
   "source": [
    "print(tohe)"
   ]
  },
  {
   "cell_type": "code",
   "execution_count": 215,
   "metadata": {},
   "outputs": [
    {
     "name": "stdout",
     "output_type": "stream",
     "text": [
      "(653, 39)\n"
     ]
    }
   ],
   "source": [
    "print(tohe.shape)"
   ]
  },
  {
   "cell_type": "code",
   "execution_count": 222,
   "metadata": {},
   "outputs": [],
   "source": [
    "with open('crx_processedOHE.csv', 'w', newline='') as file:\n",
    "    writer = csv.writer(file)\n",
    "    for i in range (len(tohe)):\n",
    "        writer.writerow(tohe[i])"
   ]
  },
  {
   "cell_type": "code",
   "execution_count": null,
   "metadata": {},
   "outputs": [],
   "source": []
  }
 ],
 "metadata": {
  "kernelspec": {
   "display_name": "Python 3",
   "language": "python",
   "name": "python3"
  },
  "language_info": {
   "codemirror_mode": {
    "name": "ipython",
    "version": 3
   },
   "file_extension": ".py",
   "mimetype": "text/x-python",
   "name": "python",
   "nbconvert_exporter": "python",
   "pygments_lexer": "ipython3",
   "version": "3.6.8"
  }
 },
 "nbformat": 4,
 "nbformat_minor": 2
}
