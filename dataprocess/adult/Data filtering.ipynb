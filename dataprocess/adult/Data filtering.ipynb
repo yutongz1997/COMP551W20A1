{
 "cells": [
  {
   "cell_type": "code",
   "execution_count": 31,
   "metadata": {},
   "outputs": [],
   "source": [
    "import numpy as np\n",
    "import pandas as pd\n",
    "import csv\n",
    "import matplotlib.pyplot as plt"
   ]
  },
  {
   "cell_type": "code",
   "execution_count": 32,
   "metadata": {},
   "outputs": [],
   "source": [
    "def removeQMark(A, sp):\n",
    "    flag = 0;\n",
    "    for i in range (sp,len(A)):\n",
    "        for j in range (len(A[i])):\n",
    "            if(A[i][j] == ' ?'):\n",
    "                A = np.delete(A,i,0)\n",
    "                flag = 1;\n",
    "                break\n",
    "        if(flag == 1):\n",
    "            break\n",
    "    if(flag ==1):\n",
    "        return removeQMark(A,i)\n",
    "    else:\n",
    "        return A"
   ]
  },
  {
   "cell_type": "code",
   "execution_count": 33,
   "metadata": {},
   "outputs": [
    {
     "name": "stdout",
     "output_type": "stream",
     "text": [
      "[1 0 1 0 1 0 1 0 1 0 1 0 1 0 1 0 1 0 1 0 1 0 1 0 1 0 1 0 1 0 1 0 1 0 1 0 1\n",
      " 0 1 0 1 0 1 0 1 0 1 0 1 0 1 0 1 0 1 0 1 0 1 0 1 0 1 0 1 0 1 0 1 0 1 0 1 0\n",
      " 1 0 1 0 1 0 1 0 1 0 1 0 1 0 1 0 1 0 1 0 1 0 1 1 0 1 0 1 0 1 0 1 0 1 0 1 0\n",
      " 1 0 1 0 1 0 1 0 1 0 1 0 1 0 1 0 1 0 1 0 1 0 1 0 1 0 1 0 1 0 1 0 1 0 1 0 1\n",
      " 0 1 0 1 0 1 0 1 0 1 0 1 0 1 0 1 0 1 0 1 0 1 0 1 0 1 0 1 0 1 0 1 0 1 0 1 0\n",
      " 1 0 1 0 1 0 1 0 1 0 1 0 1 0 1 0 1 0 1 0 1 0 1 0 1 0 1 0 1 0 1 0 1 0 1 0 1\n",
      " 0 1 0 1 0 1 0 1 0 1 0 1 0 1 0 1 0 1 0 1 0 1 0 1 0 1 0 1 0 1 0 1 1 1 1 1 1\n",
      " 1 1 1 1 1 1 1 1 1 1 1 1 1 1 1 1 1 1 1 1 1 1 1 1 1 1 1 1 1 1 1 1 1 1 1 1 1\n",
      " 1 1 1 1 1 1 1 1 1 1 1 1 1 1 1 1 1 1 1 1 1 1 1 1 1 1 1 1 1 1 1 1 1 1 1 1 1\n",
      " 1 1 1 1 1 1 1 1 1 1 1 1 1 1 1 1 1 1]\n"
     ]
    }
   ],
   "source": [
    "# ionosphere \n",
    "df_ion = pd.read_csv(\"ionosphere.data\", header=None, delimiter=r\",\",)\n",
    "data_ion = df_ion.values\n",
    "data_ion = np.delete(data_ion,1,1)\n",
    "X_ion = data_ion[:, :34]\n",
    "for i in range (len(X_ion[:,33])):\n",
    "    if X_ion[i,33] == 'g' :\n",
    "        X_ion[i,33] = 1\n",
    "    else:\n",
    "        X_ion[i,33] = 0\n",
    "print(X_ion[:,33])\n",
    "for i in range (33):\n",
    "    Max = np.max(X_ion[:,i])\n",
    "    Min = np.min(X_ion[:,i])\n",
    "    Max_diff = Max-Min\n",
    "    for j in range (len(X_ion[:,i])):\n",
    "        X_ion[j,i] = (X_ion[j,i] - Min)/Max_diff\n",
    "with open('ion_processed.csv', 'w', newline='') as file:\n",
    "    writer = csv.writer(file)\n",
    "    for i in range (len(X_ion)):\n",
    "        writer.writerow(X_ion[i])"
   ]
  },
  {
   "cell_type": "code",
   "execution_count": 34,
   "metadata": {},
   "outputs": [],
   "source": [
    "# plt.subplots_adjust(wspace = 0.5,hspace = 0.7)\n",
    "# plt.subplot(321)\n",
    "# ax00 = plt.scatter(x=X_ion[:,4],y=X_ion[:,5],c=Y_ion, cmap=plt.cm.viridis)\n",
    "# plt.xlabel('4')\n",
    "# plt.ylabel('5')\n",
    "# plt.subplot(322)\n",
    "# ax01 = plt.scatter(X_ion[:,6],X_ion[:,7],c=Y_ion, cmap=plt.cm.viridis)\n",
    "# plt.xlabel('6')\n",
    "# plt.ylabel('7')\n",
    "# plt.subplot(323)\n",
    "# ax02 = plt.scatter(X_ion[:,8],X_ion[:,9],c=Y_ion, cmap=plt.cm.viridis)\n",
    "# plt.xlabel('8')\n",
    "# plt.ylabel('9')\n",
    "# plt.subplot(324)\n",
    "# ax03 = plt.scatter(X_ion[:,10],X_ion[:,11],c=Y_ion, cmap=plt.cm.viridis)\n",
    "# plt.xlabel('10')\n",
    "# plt.ylabel('11')\n",
    "# plt.subplot(325)\n",
    "# ax04 = plt.scatter(X_ion[:,12],X_ion[:,13],c=Y_ion, cmap=plt.cm.viridis)\n",
    "# plt.xlabel('12')\n",
    "# plt.ylabel('13')\n",
    "# plt.subplot(326)\n",
    "# ax05 = plt.scatter(X_ion[:,14],X_ion[:,15],c=Y_ion, cmap=plt.cm.viridis)\n",
    "# plt.xlabel('14')\n",
    "# plt.ylabel('15')\n",
    "# # ax06 = plt.scatter(X_ion[:,16],X_ion[:,17],ax=axes[2,0],c=Y_ion, cmap=plt.cm.viridis)\n",
    "# # ax07 = plt.scatter(X_ion[:,18],X_ion[:,19],ax=axes[2,1],c=Y_ion, cmap=plt.cm.viridis)\n",
    "# # ax08 = plt.scatter(X_ion[:,20],X_ion[:,21],ax=axes[2,2],c=Y_ion, cmap=plt.cm.viridis)\n",
    "\n",
    "# plt.savefig('scatter.pdf')"
   ]
  },
  {
   "cell_type": "code",
   "execution_count": 35,
   "metadata": {},
   "outputs": [],
   "source": [
    "# print(X_ion)\n",
    "# print(Y_ion)"
   ]
  },
  {
   "cell_type": "code",
   "execution_count": 36,
   "metadata": {},
   "outputs": [],
   "source": [
    "#adult\n",
    "df_adult = pd.read_csv(\"adult.csv\", header=None, delimiter=r\",\",)\n",
    "data_adult = df_adult.values\n",
    "data_adult = removeQMark(data_adult,0)\n",
    "X_adult = data_adult[:,:15]\n",
    "#Y_adult = data_adult[:,14]"
   ]
  },
  {
   "cell_type": "code",
   "execution_count": 37,
   "metadata": {},
   "outputs": [
    {
     "name": "stdout",
     "output_type": "stream",
     "text": [
      "       0                  1       2              3   4   \\\n",
      "0      39          State-gov   77516      Bachelors  13   \n",
      "1      50   Self-emp-not-inc   83311      Bachelors  13   \n",
      "2      38            Private  215646        HS-grad   9   \n",
      "3      53            Private  234721           11th   7   \n",
      "4      28            Private  338409      Bachelors  13   \n",
      "5      37            Private  284582        Masters  14   \n",
      "6      49            Private  160187            9th   5   \n",
      "7      52   Self-emp-not-inc  209642        HS-grad   9   \n",
      "8      31            Private   45781        Masters  14   \n",
      "9      42            Private  159449      Bachelors  13   \n",
      "10     37            Private  280464   Some-college  10   \n",
      "11     30          State-gov  141297      Bachelors  13   \n",
      "12     23            Private  122272      Bachelors  13   \n",
      "13     32            Private  205019     Assoc-acdm  12   \n",
      "14     40            Private  121772      Assoc-voc  11   \n",
      "15     34            Private  245487        7th-8th   4   \n",
      "16     25   Self-emp-not-inc  176756        HS-grad   9   \n",
      "17     32            Private  186824        HS-grad   9   \n",
      "18     38            Private   28887           11th   7   \n",
      "19     43   Self-emp-not-inc  292175        Masters  14   \n",
      "20     40            Private  193524      Doctorate  16   \n",
      "21     54            Private  302146        HS-grad   9   \n",
      "22     35        Federal-gov   76845            9th   5   \n",
      "23     43            Private  117037           11th   7   \n",
      "24     59            Private  109015        HS-grad   9   \n",
      "25     56          Local-gov  216851      Bachelors  13   \n",
      "26     19            Private  168294        HS-grad   9   \n",
      "27     54                  ?  180211   Some-college  10   \n",
      "28     39            Private  367260        HS-grad   9   \n",
      "29     49            Private  193366        HS-grad   9   \n",
      "...    ..                ...     ...            ...  ..   \n",
      "32531  30                  ?   33811      Bachelors  13   \n",
      "32532  34            Private  204461      Doctorate  16   \n",
      "32533  54            Private  337992      Bachelors  13   \n",
      "32534  37            Private  179137   Some-college  10   \n",
      "32535  22            Private  325033           12th   8   \n",
      "32536  34            Private  160216      Bachelors  13   \n",
      "32537  30            Private  345898        HS-grad   9   \n",
      "32538  38            Private  139180      Bachelors  13   \n",
      "32539  71                  ?  287372      Doctorate  16   \n",
      "32540  45          State-gov  252208        HS-grad   9   \n",
      "32541  41                  ?  202822        HS-grad   9   \n",
      "32542  72                  ?  129912        HS-grad   9   \n",
      "32543  45          Local-gov  119199     Assoc-acdm  12   \n",
      "32544  31            Private  199655        Masters  14   \n",
      "32545  39          Local-gov  111499     Assoc-acdm  12   \n",
      "32546  37            Private  198216     Assoc-acdm  12   \n",
      "32547  43            Private  260761        HS-grad   9   \n",
      "32548  65   Self-emp-not-inc   99359    Prof-school  15   \n",
      "32549  43          State-gov  255835   Some-college  10   \n",
      "32550  43   Self-emp-not-inc   27242   Some-college  10   \n",
      "32551  32            Private   34066           10th   6   \n",
      "32552  43            Private   84661      Assoc-voc  11   \n",
      "32553  32            Private  116138        Masters  14   \n",
      "32554  53            Private  321865        Masters  14   \n",
      "32555  22            Private  310152   Some-college  10   \n",
      "32556  27            Private  257302     Assoc-acdm  12   \n",
      "32557  40            Private  154374        HS-grad   9   \n",
      "32558  58            Private  151910        HS-grad   9   \n",
      "32559  22            Private  201490        HS-grad   9   \n",
      "32560  52       Self-emp-inc  287927        HS-grad   9   \n",
      "\n",
      "                           5                   6                7   \\\n",
      "0               Never-married        Adm-clerical    Not-in-family   \n",
      "1          Married-civ-spouse     Exec-managerial          Husband   \n",
      "2                    Divorced   Handlers-cleaners    Not-in-family   \n",
      "3          Married-civ-spouse   Handlers-cleaners          Husband   \n",
      "4          Married-civ-spouse      Prof-specialty             Wife   \n",
      "5          Married-civ-spouse     Exec-managerial             Wife   \n",
      "6       Married-spouse-absent       Other-service    Not-in-family   \n",
      "7          Married-civ-spouse     Exec-managerial          Husband   \n",
      "8               Never-married      Prof-specialty    Not-in-family   \n",
      "9          Married-civ-spouse     Exec-managerial          Husband   \n",
      "10         Married-civ-spouse     Exec-managerial          Husband   \n",
      "11         Married-civ-spouse      Prof-specialty          Husband   \n",
      "12              Never-married        Adm-clerical        Own-child   \n",
      "13              Never-married               Sales    Not-in-family   \n",
      "14         Married-civ-spouse        Craft-repair          Husband   \n",
      "15         Married-civ-spouse    Transport-moving          Husband   \n",
      "16              Never-married     Farming-fishing        Own-child   \n",
      "17              Never-married   Machine-op-inspct        Unmarried   \n",
      "18         Married-civ-spouse               Sales          Husband   \n",
      "19                   Divorced     Exec-managerial        Unmarried   \n",
      "20         Married-civ-spouse      Prof-specialty          Husband   \n",
      "21                  Separated       Other-service        Unmarried   \n",
      "22         Married-civ-spouse     Farming-fishing          Husband   \n",
      "23         Married-civ-spouse    Transport-moving          Husband   \n",
      "24                   Divorced        Tech-support        Unmarried   \n",
      "25         Married-civ-spouse        Tech-support          Husband   \n",
      "26              Never-married        Craft-repair        Own-child   \n",
      "27         Married-civ-spouse                   ?          Husband   \n",
      "28                   Divorced     Exec-managerial    Not-in-family   \n",
      "29         Married-civ-spouse        Craft-repair          Husband   \n",
      "...                       ...                 ...              ...   \n",
      "32531           Never-married                   ?    Not-in-family   \n",
      "32532      Married-civ-spouse      Prof-specialty          Husband   \n",
      "32533      Married-civ-spouse     Exec-managerial          Husband   \n",
      "32534                Divorced        Adm-clerical        Unmarried   \n",
      "32535           Never-married     Protective-serv        Own-child   \n",
      "32536           Never-married     Exec-managerial    Not-in-family   \n",
      "32537           Never-married        Craft-repair    Not-in-family   \n",
      "32538                Divorced      Prof-specialty        Unmarried   \n",
      "32539      Married-civ-spouse                   ?          Husband   \n",
      "32540               Separated        Adm-clerical        Own-child   \n",
      "32541               Separated                   ?    Not-in-family   \n",
      "32542      Married-civ-spouse                   ?          Husband   \n",
      "32543                Divorced      Prof-specialty        Unmarried   \n",
      "32544                Divorced       Other-service    Not-in-family   \n",
      "32545      Married-civ-spouse        Adm-clerical             Wife   \n",
      "32546                Divorced        Tech-support    Not-in-family   \n",
      "32547      Married-civ-spouse   Machine-op-inspct          Husband   \n",
      "32548           Never-married      Prof-specialty    Not-in-family   \n",
      "32549                Divorced        Adm-clerical   Other-relative   \n",
      "32550      Married-civ-spouse        Craft-repair          Husband   \n",
      "32551      Married-civ-spouse   Handlers-cleaners          Husband   \n",
      "32552      Married-civ-spouse               Sales          Husband   \n",
      "32553           Never-married        Tech-support    Not-in-family   \n",
      "32554      Married-civ-spouse     Exec-managerial          Husband   \n",
      "32555           Never-married     Protective-serv    Not-in-family   \n",
      "32556      Married-civ-spouse        Tech-support             Wife   \n",
      "32557      Married-civ-spouse   Machine-op-inspct          Husband   \n",
      "32558                 Widowed        Adm-clerical        Unmarried   \n",
      "32559           Never-married        Adm-clerical        Own-child   \n",
      "32560      Married-civ-spouse     Exec-managerial             Wife   \n",
      "\n",
      "                        8        9      10    11  12              13      14  \n",
      "0                    White     Male   2174     0  40   United-States   <=50K  \n",
      "1                    White     Male      0     0  13   United-States   <=50K  \n",
      "2                    White     Male      0     0  40   United-States   <=50K  \n",
      "3                    Black     Male      0     0  40   United-States   <=50K  \n",
      "4                    Black   Female      0     0  40            Cuba   <=50K  \n",
      "5                    White   Female      0     0  40   United-States   <=50K  \n",
      "6                    Black   Female      0     0  16         Jamaica   <=50K  \n",
      "7                    White     Male      0     0  45   United-States    >50K  \n",
      "8                    White   Female  14084     0  50   United-States    >50K  \n",
      "9                    White     Male   5178     0  40   United-States    >50K  \n",
      "10                   Black     Male      0     0  80   United-States    >50K  \n",
      "11      Asian-Pac-Islander     Male      0     0  40           India    >50K  \n",
      "12                   White   Female      0     0  30   United-States   <=50K  \n",
      "13                   Black     Male      0     0  50   United-States   <=50K  \n",
      "14      Asian-Pac-Islander     Male      0     0  40               ?    >50K  \n",
      "15      Amer-Indian-Eskimo     Male      0     0  45          Mexico   <=50K  \n",
      "16                   White     Male      0     0  35   United-States   <=50K  \n",
      "17                   White     Male      0     0  40   United-States   <=50K  \n",
      "18                   White     Male      0     0  50   United-States   <=50K  \n",
      "19                   White   Female      0     0  45   United-States    >50K  \n",
      "20                   White     Male      0     0  60   United-States    >50K  \n",
      "21                   Black   Female      0     0  20   United-States   <=50K  \n",
      "22                   Black     Male      0     0  40   United-States   <=50K  \n",
      "23                   White     Male      0  2042  40   United-States   <=50K  \n",
      "24                   White   Female      0     0  40   United-States   <=50K  \n",
      "25                   White     Male      0     0  40   United-States    >50K  \n",
      "26                   White     Male      0     0  40   United-States   <=50K  \n",
      "27      Asian-Pac-Islander     Male      0     0  60           South    >50K  \n",
      "28                   White     Male      0     0  80   United-States   <=50K  \n",
      "29                   White     Male      0     0  40   United-States   <=50K  \n",
      "...                    ...      ...    ...   ...  ..             ...     ...  \n",
      "32531   Asian-Pac-Islander   Female      0     0  99   United-States   <=50K  \n",
      "32532                White     Male      0     0  60   United-States    >50K  \n",
      "32533   Asian-Pac-Islander     Male      0     0  50           Japan    >50K  \n",
      "32534                White   Female      0     0  39   United-States   <=50K  \n",
      "32535                Black     Male      0     0  35   United-States   <=50K  \n",
      "32536                White   Female      0     0  55   United-States    >50K  \n",
      "32537                Black     Male      0     0  46   United-States   <=50K  \n",
      "32538                Black   Female  15020     0  45   United-States    >50K  \n",
      "32539                White     Male      0     0  10   United-States    >50K  \n",
      "32540                White   Female      0     0  40   United-States   <=50K  \n",
      "32541                Black   Female      0     0  32   United-States   <=50K  \n",
      "32542                White     Male      0     0  25   United-States   <=50K  \n",
      "32543                White   Female      0     0  48   United-States   <=50K  \n",
      "32544                Other   Female      0     0  30   United-States   <=50K  \n",
      "32545                White   Female      0     0  20   United-States    >50K  \n",
      "32546                White   Female      0     0  40   United-States   <=50K  \n",
      "32547                White     Male      0     0  40          Mexico   <=50K  \n",
      "32548                White     Male   1086     0  60   United-States   <=50K  \n",
      "32549                White   Female      0     0  40   United-States   <=50K  \n",
      "32550                White     Male      0     0  50   United-States   <=50K  \n",
      "32551   Amer-Indian-Eskimo     Male      0     0  40   United-States   <=50K  \n",
      "32552                White     Male      0     0  45   United-States   <=50K  \n",
      "32553   Asian-Pac-Islander     Male      0     0  11          Taiwan   <=50K  \n",
      "32554                White     Male      0     0  40   United-States    >50K  \n",
      "32555                White     Male      0     0  40   United-States   <=50K  \n",
      "32556                White   Female      0     0  38   United-States   <=50K  \n",
      "32557                White     Male      0     0  40   United-States    >50K  \n",
      "32558                White   Female      0     0  40   United-States   <=50K  \n",
      "32559                White     Male      0     0  20   United-States   <=50K  \n",
      "32560                White   Female  15024     0  40   United-States    >50K  \n",
      "\n",
      "[32561 rows x 15 columns]\n",
      "[[39 ' State-gov' 77516 ... 40 ' United-States' ' <=50K']\n",
      " [50 ' Self-emp-not-inc' 83311 ... 13 ' United-States' ' <=50K']\n",
      " [38 ' Private' 215646 ... 40 ' United-States' ' <=50K']\n",
      " ...\n",
      " [58 ' Private' 151910 ... 40 ' United-States' ' <=50K']\n",
      " [22 ' Private' 201490 ... 20 ' United-States' ' <=50K']\n",
      " [52 ' Self-emp-inc' 287927 ... 40 ' United-States' ' >50K']]\n"
     ]
    }
   ],
   "source": [
    "print(df_adult)\n",
    "print(X_adult)\n",
    "#print(Y_adult)"
   ]
  },
  {
   "cell_type": "code",
   "execution_count": 38,
   "metadata": {},
   "outputs": [],
   "source": [
    "lis = [0,2,4,10,11,12]\n",
    "for i in range (len(lis)):\n",
    "    Max = np.max(X_adult[:,lis[i]])\n",
    "    Min = np.min(X_adult[:,lis[i]])\n",
    "    Max_diff = Max-Min\n",
    "    for j in range (len(X_adult[:,lis[i]])):\n",
    "        X_adult[j,lis[i]] = (X_adult[j,lis[i]] - Min)/Max_diff"
   ]
  },
  {
   "cell_type": "code",
   "execution_count": 39,
   "metadata": {},
   "outputs": [
    {
     "name": "stdout",
     "output_type": "stream",
     "text": [
      "[5 1 0 ... 0 0 2]\n"
     ]
    }
   ],
   "source": [
    "dict = {\n",
    "    'Private': 0,\n",
    "    'Self-emp-not-inc': 1,\n",
    "    'Self-emp-inc': 2,\n",
    "    'Federal-gov': 3,\n",
    "    'Local-gov': 4,\n",
    "    'State-gov': 5,\n",
    "    'Without-pay': 6,\n",
    "    'Never-worked': 7,\n",
    "}\n",
    "for i in range (len(X_adult[:,1])):\n",
    "    X_adult[i,1] = X_adult[i, 1].strip()\n",
    "    X_adult[i,1] = dict[X_adult[i,1]]\n",
    "print(X_adult[:,1])"
   ]
  },
  {
   "cell_type": "code",
   "execution_count": 40,
   "metadata": {},
   "outputs": [
    {
     "name": "stdout",
     "output_type": "stream",
     "text": [
      "[0 0 3 ... 3 3 3]\n"
     ]
    }
   ],
   "source": [
    "dict = {\n",
    "    'Bachelors': 0,\n",
    "    'Some-college': 1,\n",
    "    '11th': 2,\n",
    "    'HS-grad': 3,\n",
    "    'Prof-school': 4,\n",
    "    'Assoc-acdm': 5,\n",
    "    'Assoc-voc': 6,\n",
    "    '9th': 7,\n",
    "    '7th-8th': 8,\n",
    "    '12th': 9,\n",
    "    'Masters': 10,\n",
    "    '1st-4th': 11,\n",
    "    '10th': 12,\n",
    "    'Doctorate': 12,\n",
    "    '5th-6th': 13,\n",
    "    'Preschool': 14,\n",
    "}\n",
    "for i in range (len(X_adult[:,3])):\n",
    "    X_adult[i,3] = X_adult[i, 3].strip()\n",
    "    X_adult[i,3] = dict[X_adult[i, 3]]\n",
    "print(X_adult[:,3])"
   ]
  },
  {
   "cell_type": "code",
   "execution_count": 41,
   "metadata": {},
   "outputs": [
    {
     "name": "stdout",
     "output_type": "stream",
     "text": [
      "[2 0 1 ... 4 2 0]\n"
     ]
    }
   ],
   "source": [
    "dict = {\n",
    "    'Married-civ-spouse': 0,\n",
    "    'Divorced': 1,\n",
    "    'Never-married': 2,\n",
    "    'Separated': 3,\n",
    "    'Widowed': 4,\n",
    "    'Married-spouse-absent': 5,\n",
    "    'Married-AF-spouse': 6,\n",
    "}\n",
    "for i in range (len(X_adult[:,5])):\n",
    "    X_adult[i,5] = X_adult[i, 5].strip()\n",
    "    X_adult[i, 5] = dict[X_adult[i, 5]]\n",
    "print(X_adult[:, 5])"
   ]
  },
  {
   "cell_type": "code",
   "execution_count": 42,
   "metadata": {},
   "outputs": [
    {
     "name": "stdout",
     "output_type": "stream",
     "text": [
      "[8 4 6 ... 8 8 4]\n"
     ]
    }
   ],
   "source": [
    "dict = {\n",
    "    'Tech-support': 0,\n",
    "    'Craft-repair': 1,\n",
    "    'Other-service': 2,\n",
    "    'Sales': 3,\n",
    "    'Exec-managerial': 4,\n",
    "    'Prof-specialty': 5,\n",
    "    'Handlers-cleaners': 6,\n",
    "    'Machine-op-inspct': 7,\n",
    "    'Adm-clerical': 8,\n",
    "    'Farming-fishing': 9,\n",
    "    'Transport-moving': 10,\n",
    "    'Priv-house-serv': 11,\n",
    "    'Protective-serv': 12,\n",
    "    'Armed-Forces': 13,\n",
    "}\n",
    "for i in range (len(X_adult[:,6])):\n",
    "    X_adult[i,6] = X_adult[i, 6].strip()\n",
    "    X_adult[i, 6] = dict[X_adult[i, 6]]\n",
    "print(X_adult[:, 6])"
   ]
  },
  {
   "cell_type": "code",
   "execution_count": 43,
   "metadata": {},
   "outputs": [
    {
     "name": "stdout",
     "output_type": "stream",
     "text": [
      "[3 2 3 ... 5 1 0]\n"
     ]
    }
   ],
   "source": [
    "dict = {\n",
    "    'Wife': 0,\n",
    "    'Own-child': 1,\n",
    "    'Husband': 2,\n",
    "    'Not-in-family': 3,\n",
    "    'Other-relative': 4,\n",
    "    'Unmarried': 5,\n",
    "}\n",
    "for i in range (len(X_adult[:,7])):\n",
    "    X_adult[i,7] = X_adult[i, 7].strip()\n",
    "    X_adult[i, 7] = dict[X_adult[i, 7]]\n",
    "print(X_adult[:, 7])"
   ]
  },
  {
   "cell_type": "code",
   "execution_count": 44,
   "metadata": {},
   "outputs": [
    {
     "name": "stdout",
     "output_type": "stream",
     "text": [
      "[0 0 0 ... 0 0 0]\n"
     ]
    }
   ],
   "source": [
    "dict = {\n",
    "    'White': 0,\n",
    "    'Asian-Pac-Islander': 1,\n",
    "    'Amer-Indian-Eskimo': 2,\n",
    "    'Other': 3,\n",
    "    'Black': 4,\n",
    "}\n",
    "for i in range (len(X_adult[:,8])):\n",
    "    X_adult[i,8] = X_adult[i, 8].strip()\n",
    "    X_adult[i, 8] = dict[X_adult[i, 8]]\n",
    "print(X_adult[:, 8])"
   ]
  },
  {
   "cell_type": "code",
   "execution_count": 45,
   "metadata": {},
   "outputs": [
    {
     "name": "stdout",
     "output_type": "stream",
     "text": [
      "[1 1 1 ... 0 1 0]\n"
     ]
    }
   ],
   "source": [
    "dict = {\n",
    "    'Female': 0,\n",
    "    'Male': 1,\n",
    "}\n",
    "for i in range (len(X_adult[:,9])):\n",
    "    X_adult[i,9] = X_adult[i, 9].strip()\n",
    "    X_adult[i, 9] = dict[X_adult[i, 9]]\n",
    "print(X_adult[:, 9])"
   ]
  },
  {
   "cell_type": "code",
   "execution_count": 46,
   "metadata": {},
   "outputs": [
    {
     "name": "stdout",
     "output_type": "stream",
     "text": [
      "[0 0 0 ... 0 0 0]\n"
     ]
    }
   ],
   "source": [
    "dict = {\n",
    "    'United-States': 0,\n",
    "    'Cambodia': 1,\n",
    "    'England' : 2,\n",
    "    'Puerto-Rico': 3,\n",
    "    'Canada': 4,\n",
    "    'Germany' : 5,\n",
    "    'Outlying-US(Guam-USVI-etc)': 6,\n",
    "    'India': 7,\n",
    "    'Japan' : 8,\n",
    "    'Greece': 9,\n",
    "    'South': 10,\n",
    "    'China' : 11,\n",
    "    'Cuba' : 12,\n",
    "    'Iran' : 13,\n",
    "    'Honduras' : 14,\n",
    "    'Philippines' : 15,\n",
    "    'Italy' : 16,\n",
    "    'Poland' : 17,\n",
    "    'Jamaica' : 18,\n",
    "    'Vietnam' : 19,\n",
    "    'Mexico' : 20,\n",
    "    'Portugal' : 21,\n",
    "    'Ireland' : 22,\n",
    "    'France' : 23,\n",
    "    'Dominican-Republic' : 24,\n",
    "    'Laos' : 25,\n",
    "    'Ecuador' : 26,\n",
    "    'Taiwan' : 27,\n",
    "    'Haiti' : 28,\n",
    "    'Columbia' : 29,\n",
    "    'Hungary' : 30,\n",
    "    'Guatemala' : 31,\n",
    "    'Nicaragua' : 32,\n",
    "    'Scotland' : 33,\n",
    "    'Thailand' : 34,\n",
    "    'Yugoslavia' : 35,\n",
    "    'El-Salvador' : 36,\n",
    "    'Trinadad&Tobago' : 37,\n",
    "    'Peru' : 38,\n",
    "    'Hong' : 39,\n",
    "    'Holand-Netherlands' : 40,\n",
    "}\n",
    "for i in range (len(X_adult[:,13])):\n",
    "    X_adult[i,13] = X_adult[i, 13].strip()\n",
    "    X_adult[i, 13] = dict[X_adult[i, 13]]\n",
    "print(X_adult[:, 13])"
   ]
  },
  {
   "cell_type": "code",
   "execution_count": 47,
   "metadata": {},
   "outputs": [
    {
     "name": "stdout",
     "output_type": "stream",
     "text": [
      "[1 1 1 ... 1 1 0]\n"
     ]
    }
   ],
   "source": [
    "dict = {\n",
    "    '>50K': 0,\n",
    "    '<=50K': 1,\n",
    "}\n",
    "for i in range (len(X_adult[:,14])):\n",
    "    X_adult[i,14] = X_adult[i,14].strip()\n",
    "    X_adult[i,14] = dict[X_adult[i,14]]\n",
    "print(X_adult[:,14])"
   ]
  },
  {
   "cell_type": "code",
   "execution_count": 48,
   "metadata": {},
   "outputs": [
    {
     "name": "stdout",
     "output_type": "stream",
     "text": [
      "[[0.3013698630136986 5 0.04333771149798496 ... 0.3979591836734694 0 1]\n",
      " [0.4520547945205479 1 0.047277379845214206 ... 0.12244897959183673 0 1]\n",
      " [0.2876712328767123 0 0.1372439045614493 ... 0.3979591836734694 0 1]\n",
      " ...\n",
      " [0.5616438356164384 0 0.09391367129501216 ... 0.3979591836734694 0 1]\n",
      " [0.0684931506849315 0 0.12762010039865773 ... 0.19387755102040816 0 1]\n",
      " [0.4794520547945205 2 0.1863833640620666 ... 0.3979591836734694 0 0]]\n"
     ]
    }
   ],
   "source": [
    "print(X_adult)\n",
    "#print(Y_adult)"
   ]
  },
  {
   "cell_type": "code",
   "execution_count": 49,
   "metadata": {},
   "outputs": [],
   "source": [
    "with open('adult_processed.csv', 'w', newline='') as file:\n",
    "    writer = csv.writer(file)\n",
    "    for i in range (len(X_adult)):\n",
    "        writer.writerow(X_adult[i])"
   ]
  },
  {
   "cell_type": "code",
   "execution_count": 54,
   "metadata": {},
   "outputs": [
    {
     "data": {
      "image/png": "[encoded data removed]",
      "text/plain": [
       "<Figure size 432x288 with 1 Axes>"
      ]
     },
     "metadata": {},
     "output_type": "display_data"
    }
   ],
   "source": [
    "df_adult.columns = ['age', 'workclass', 'fnlwgt','education','education-num','marital-status','occupation','relationship','race','sex','capital-gain','capital-loss','hours-per-week','native-country','label']\n",
    "pd.crosstab(df_adult['relationship'],df_adult['label']).plot.bar()\n",
    "plt.savefig('relationshipVSlabel.pdf',bbox_inches = \"tight\")"
   ]
  },
  {
   "cell_type": "code",
   "execution_count": 55,
   "metadata": {},
   "outputs": [
    {
     "data": {
      "image/png": "[encoded data removed]",
      "text/plain": [
       "<Figure size 432x288 with 1 Axes>"
      ]
     },
     "metadata": {},
     "output_type": "display_data"
    }
   ],
   "source": [
    "df_adult['label'].value_counts().plot.bar()\n",
    "plt.savefig('countLabel.pdf',bbox_inches = \"tight\")"
   ]
  },
  {
   "cell_type": "code",
   "execution_count": 52,
   "metadata": {},
   "outputs": [],
   "source": [
    "tohe = np.array([[]])\n",
    "ohe = np.array([])\n",
    "discrete = [1,3,5,6,7,8,13]\n",
    "discrete_length = [8,16,7,14,6,5,41]\n",
    "def one_hot(rowNum,colNum):\n",
    "    for z in range (discrete_length[colNum]):\n",
    "        if(X_adult[rowNum][discrete[colNum]] == z):\n",
    "            zer = np.zeros(discrete_length[colNum]-1)\n",
    "            if(z!=0):\n",
    "                zer[z-1] = 1\n",
    "            break\n",
    "    return zer"
   ]
  },
  {
   "cell_type": "code",
   "execution_count": 53,
   "metadata": {},
   "outputs": [
    {
     "ename": "KeyboardInterrupt",
     "evalue": "",
     "output_type": "error",
     "traceback": [
      "\u001b[0;31m---------------------------------------------------------------------------\u001b[0m",
      "\u001b[0;31mKeyboardInterrupt\u001b[0m                         Traceback (most recent call last)",
      "\u001b[0;32m<ipython-input-53-6e6d2b0eb0f3>\u001b[0m in \u001b[0;36m<module>\u001b[0;34m\u001b[0m\n\u001b[1;32m     15\u001b[0m         \u001b[0mtohe\u001b[0m \u001b[0;34m=\u001b[0m \u001b[0mohe\u001b[0m\u001b[0;34m.\u001b[0m\u001b[0mreshape\u001b[0m\u001b[0;34m(\u001b[0m\u001b[0;36m1\u001b[0m\u001b[0;34m,\u001b[0m\u001b[0;36m98\u001b[0m\u001b[0;34m)\u001b[0m\u001b[0;34m\u001b[0m\u001b[0;34m\u001b[0m\u001b[0m\n\u001b[1;32m     16\u001b[0m     \u001b[0;32melse\u001b[0m\u001b[0;34m:\u001b[0m\u001b[0;34m\u001b[0m\u001b[0;34m\u001b[0m\u001b[0m\n\u001b[0;32m---> 17\u001b[0;31m         \u001b[0mtohe\u001b[0m \u001b[0;34m=\u001b[0m \u001b[0mnp\u001b[0m\u001b[0;34m.\u001b[0m\u001b[0mappend\u001b[0m\u001b[0;34m(\u001b[0m\u001b[0mtohe\u001b[0m\u001b[0;34m,\u001b[0m\u001b[0mohe\u001b[0m\u001b[0;34m.\u001b[0m\u001b[0mreshape\u001b[0m\u001b[0;34m(\u001b[0m\u001b[0;36m1\u001b[0m\u001b[0;34m,\u001b[0m\u001b[0;36m98\u001b[0m\u001b[0;34m)\u001b[0m\u001b[0;34m,\u001b[0m\u001b[0maxis\u001b[0m \u001b[0;34m=\u001b[0m \u001b[0;36m0\u001b[0m\u001b[0;34m)\u001b[0m\u001b[0;34m\u001b[0m\u001b[0;34m\u001b[0m\u001b[0m\n\u001b[0m",
      "\u001b[0;32m<__array_function__ internals>\u001b[0m in \u001b[0;36mappend\u001b[0;34m(*args, **kwargs)\u001b[0m\n",
      "\u001b[0;32m/anaconda3/lib/python3.6/site-packages/numpy/lib/function_base.py\u001b[0m in \u001b[0;36mappend\u001b[0;34m(arr, values, axis)\u001b[0m\n\u001b[1;32m   4691\u001b[0m         \u001b[0mvalues\u001b[0m \u001b[0;34m=\u001b[0m \u001b[0mravel\u001b[0m\u001b[0;34m(\u001b[0m\u001b[0mvalues\u001b[0m\u001b[0;34m)\u001b[0m\u001b[0;34m\u001b[0m\u001b[0;34m\u001b[0m\u001b[0m\n\u001b[1;32m   4692\u001b[0m         \u001b[0maxis\u001b[0m \u001b[0;34m=\u001b[0m \u001b[0marr\u001b[0m\u001b[0;34m.\u001b[0m\u001b[0mndim\u001b[0m\u001b[0;34m-\u001b[0m\u001b[0;36m1\u001b[0m\u001b[0;34m\u001b[0m\u001b[0;34m\u001b[0m\u001b[0m\n\u001b[0;32m-> 4693\u001b[0;31m     \u001b[0;32mreturn\u001b[0m \u001b[0mconcatenate\u001b[0m\u001b[0;34m(\u001b[0m\u001b[0;34m(\u001b[0m\u001b[0marr\u001b[0m\u001b[0;34m,\u001b[0m \u001b[0mvalues\u001b[0m\u001b[0;34m)\u001b[0m\u001b[0;34m,\u001b[0m \u001b[0maxis\u001b[0m\u001b[0;34m=\u001b[0m\u001b[0maxis\u001b[0m\u001b[0;34m)\u001b[0m\u001b[0;34m\u001b[0m\u001b[0;34m\u001b[0m\u001b[0m\n\u001b[0m\u001b[1;32m   4694\u001b[0m \u001b[0;34m\u001b[0m\u001b[0m\n\u001b[1;32m   4695\u001b[0m \u001b[0;34m\u001b[0m\u001b[0m\n",
      "\u001b[0;32m<__array_function__ internals>\u001b[0m in \u001b[0;36mconcatenate\u001b[0;34m(*args, **kwargs)\u001b[0m\n",
      "\u001b[0;31mKeyboardInterrupt\u001b[0m: "
     ]
    }
   ],
   "source": [
    "# one-hot encoding\n",
    "for i in range (len(X_adult)):\n",
    "    ohe = np.array([])\n",
    "    for j in range (len(X_adult[i])):\n",
    "        flag = 0\n",
    "        for k in range (len(discrete)):\n",
    "            if j == float(discrete[k]) :\n",
    "                app = one_hot(i,k)\n",
    "                ohe = np.append(ohe, app)\n",
    "                flag = 1\n",
    "                break\n",
    "        if(flag !=1):\n",
    "            ohe = np.append(ohe,X_adult[i][j])\n",
    "    if(i == 0 ):\n",
    "        tohe = ohe.reshape(1,98)\n",
    "    else:\n",
    "        tohe = np.append(tohe,ohe.reshape(1,98),axis = 0)"
   ]
  },
  {
   "cell_type": "code",
   "execution_count": null,
   "metadata": {},
   "outputs": [],
   "source": [
    "with open('adult_processedOHE.csv', 'w', newline='') as file:\n",
    "    writer = csv.writer(file)\n",
    "    for i in range (len(tohe)):\n",
    "        writer.writerow(tohe[i])"
   ]
  },
  {
   "cell_type": "code",
   "execution_count": 63,
   "metadata": {},
   "outputs": [
    {
     "data": {
      "image/png": "[encoded data removed]",
      "text/plain": [
       "<Figure size 720x720 with 2 Axes>"
      ]
     },
     "metadata": {},
     "output_type": "display_data"
    }
   ],
   "source": [
    "from scipy import stats\n",
    "\n",
    "corr = df_adult.corr(method ='pearson')\n",
    "fig = plt.figure(figsize=(10,10))\n",
    "ax = fig.add_subplot(111)\n",
    "cax = ax.matshow(corr,cmap='coolwarm', vmin=-1, vmax=1)\n",
    "fig.colorbar(cax)\n",
    "ticks = np.arange(0,len(df_adult.columns),1)\n",
    "ax.set_xticks(ticks)\n",
    "plt.xticks(rotation=90)\n",
    "ax.set_yticks(ticks)\n",
    "ax.set_xticklabels(df_adult.columns)\n",
    "ax.set_yticklabels(df_adult.columns)\n",
    "plt.show()\n",
    "#fig.savefig('../Report/img/cancer_correlation.png',bbox_inches='tight')"
   ]
  },
  {
   "cell_type": "code",
   "execution_count": 62,
   "metadata": {},
   "outputs": [
    {
     "name": "stdout",
     "output_type": "stream",
     "text": [
      "[1 1 0 ... 1 1 0]\n"
     ]
    }
   ],
   "source": [
    "df_adult_test = pd.read_csv(\"adult.test\",header=None, delimiter=r\",\")\n",
    "data_adult_test = df_adult_test.values\n",
    "data_adult_test = removeQMark(data_adult_test,0)\n",
    "X_adult = data_adult_test[:,:15]\n",
    "lis = [0,2,4,10,11,12]\n",
    "for i in range (len(lis)):\n",
    "    Max = np.max(X_adult[:,lis[i]])\n",
    "    Min = np.min(X_adult[:,lis[i]])\n",
    "    Max_diff = Max-Min\n",
    "    for j in range (len(X_adult[:,lis[i]])):\n",
    "        X_adult[j,lis[i]] = (X_adult[j,lis[i]] - Min)/Max_diff\n",
    "dict = {\n",
    "    'Private': 0,\n",
    "    'Self-emp-not-inc': 1,\n",
    "    'Self-emp-inc': 2,\n",
    "    'Federal-gov': 3,\n",
    "    'Local-gov': 4,\n",
    "    'State-gov': 5,\n",
    "    'Without-pay': 6,\n",
    "    'Never-worked': 7,\n",
    "}\n",
    "\n",
    "for i in range (len(X_adult[:,1])):\n",
    "    X_adult[i,1] = X_adult[i, 1].strip()\n",
    "    X_adult[i,1] = dict[X_adult[i,1]]\n",
    "\n",
    "dict = {\n",
    "    'Bachelors': 0,\n",
    "    'Some-college': 1,\n",
    "    '11th': 2,\n",
    "    'HS-grad': 3,\n",
    "    'Prof-school': 4,\n",
    "    'Assoc-acdm': 5,\n",
    "    'Assoc-voc': 6,\n",
    "    '9th': 7,\n",
    "    '7th-8th': 8,\n",
    "    '12th': 9,\n",
    "    'Masters': 10,\n",
    "    '1st-4th': 11,\n",
    "    '10th': 12,\n",
    "    'Doctorate': 12,\n",
    "    '5th-6th': 13,\n",
    "    'Preschool': 14,\n",
    "}\n",
    "\n",
    "for i in range (len(X_adult[:,3])):\n",
    "    X_adult[i,3] = X_adult[i, 3].strip()\n",
    "    X_adult[i,3] = dict[X_adult[i, 3]]\n",
    "dict = {\n",
    "    'Married-civ-spouse': 0,\n",
    "    'Divorced': 1,\n",
    "    'Never-married': 2,\n",
    "    'Separated': 3,\n",
    "    'Widowed': 4,\n",
    "    'Married-spouse-absent': 5,\n",
    "    'Married-AF-spouse': 6,\n",
    "}\n",
    "for i in range (len(X_adult[:,5])):\n",
    "    X_adult[i,5] = X_adult[i, 5].strip()\n",
    "    X_adult[i, 5] = dict[X_adult[i, 5]]\n",
    "\n",
    "dict = {\n",
    "    'Tech-support': 0,\n",
    "    'Craft-repair': 1,\n",
    "    'Other-service': 2,\n",
    "    'Sales': 3,\n",
    "    'Exec-managerial': 4,\n",
    "    'Prof-specialty': 5,\n",
    "    'Handlers-cleaners': 6,\n",
    "    'Machine-op-inspct': 7,\n",
    "    'Adm-clerical': 8,\n",
    "    'Farming-fishing': 9,\n",
    "    'Transport-moving': 10,\n",
    "    'Priv-house-serv': 11,\n",
    "    'Protective-serv': 12,\n",
    "    'Armed-Forces': 13,\n",
    "}\n",
    "for i in range (len(X_adult[:,6])):\n",
    "    X_adult[i,6] = X_adult[i, 6].strip()\n",
    "    X_adult[i, 6] = dict[X_adult[i, 6]]\n",
    "\n",
    "dict = {\n",
    "    'Wife': 0,\n",
    "    'Own-child': 1,\n",
    "    'Husband': 2,\n",
    "    'Not-in-family': 3,\n",
    "    'Other-relative': 4,\n",
    "    'Unmarried': 5,\n",
    "}\n",
    "for i in range (len(X_adult[:,7])):\n",
    "    X_adult[i,7] = X_adult[i, 7].strip()\n",
    "    X_adult[i, 7] = dict[X_adult[i, 7]]\n",
    "\n",
    "dict = {\n",
    "    'White': 0,\n",
    "    'Asian-Pac-Islander': 1,\n",
    "    'Amer-Indian-Eskimo': 2,\n",
    "    'Other': 3,\n",
    "    'Black': 4,\n",
    "}\n",
    "for i in range (len(X_adult[:,8])):\n",
    "    X_adult[i,8] = X_adult[i, 8].strip()\n",
    "    X_adult[i, 8] = dict[X_adult[i, 8]]\n",
    "\n",
    "dict = {\n",
    "    'Female': 0,\n",
    "    'Male': 1,\n",
    "}\n",
    "for i in range (len(X_adult[:,9])):\n",
    "    X_adult[i,9] = X_adult[i, 9].strip()\n",
    "    X_adult[i, 9] = dict[X_adult[i, 9]]\n",
    "\n",
    "dict = {\n",
    "    'United-States': 0,\n",
    "    'Cambodia': 1,\n",
    "    'England' : 2,\n",
    "    'Puerto-Rico': 3,\n",
    "    'Canada': 4,\n",
    "    'Germany' : 5,\n",
    "    'Outlying-US(Guam-USVI-etc)': 6,\n",
    "    'India': 7,\n",
    "    'Japan' : 8,\n",
    "    'Greece': 9,\n",
    "    'South': 10,\n",
    "    'China' : 11,\n",
    "    'Cuba' : 12,\n",
    "    'Iran' : 13,\n",
    "    'Honduras' : 14,\n",
    "    'Philippines' : 15,\n",
    "    'Italy' : 16,\n",
    "    'Poland' : 17,\n",
    "    'Jamaica' : 18,\n",
    "    'Vietnam' : 19,\n",
    "    'Mexico' : 20,\n",
    "    'Portugal' : 21,\n",
    "    'Ireland' : 22,\n",
    "    'France' : 23,\n",
    "    'Dominican-Republic' : 24,\n",
    "    'Laos' : 25,\n",
    "    'Ecuador' : 26,\n",
    "    'Taiwan' : 27,\n",
    "    'Haiti' : 28,\n",
    "    'Columbia' : 29,\n",
    "    'Hungary' : 30,\n",
    "    'Guatemala' : 31,\n",
    "    'Nicaragua' : 32,\n",
    "    'Scotland' : 33,\n",
    "    'Thailand' : 34,\n",
    "    'Yugoslavia' : 35,\n",
    "    'El-Salvador' : 36,\n",
    "    'Trinadad&Tobago' : 37,\n",
    "    'Peru' : 38,\n",
    "    'Hong' : 39,\n",
    "    'Holand-Netherlands' : 40,\n",
    "}\n",
    "for i in range (len(X_adult[:,13])):\n",
    "    X_adult[i,13] = X_adult[i, 13].strip()\n",
    "    X_adult[i, 13] = dict[X_adult[i, 13]]\n",
    "\n",
    "dict = {\n",
    "    '>50K.': 0,\n",
    "    '<=50K.': 1,\n",
    "}\n",
    "for i in range (len(X_adult[:,14])):\n",
    "    X_adult[i,14] = X_adult[i,14].strip()\n",
    "    X_adult[i,14] = dict[X_adult[i,14]]\n",
    "print(X_adult[:,14])\n",
    "\n",
    "with open('adult_test_processed.csv', 'w', newline='') as file:\n",
    "    writer = csv.writer(file)\n",
    "    for i in range (len(X_adult)):\n",
    "        writer.writerow(X_adult[i])"
   ]
  },
  {
   "cell_type": "code",
   "execution_count": null,
   "metadata": {},
   "outputs": [],
   "source": [
    "tohe = np.array([[]])\n",
    "ohe = np.array([])\n",
    "discrete = [1,3,5,6,7,8,13]\n",
    "discrete_length = [8,16,7,14,6,5,41]\n",
    "def one_hot(rowNum,colNum):\n",
    "    for z in range (discrete_length[colNum]):\n",
    "        if(X_adult[rowNum][discrete[colNum]] == z):\n",
    "            zer = np.zeros(discrete_length[colNum]-1)\n",
    "            if(z!=0):\n",
    "                zer[z-1] = 1\n",
    "            break\n",
    "    return zer"
   ]
  },
  {
   "cell_type": "code",
   "execution_count": null,
   "metadata": {},
   "outputs": [],
   "source": [
    "# one-hot encoding\n",
    "for i in range (len(X_adult)):\n",
    "    ohe = np.array([])\n",
    "    for j in range (len(X_adult[i])):\n",
    "        flag = 0\n",
    "        for k in range (len(discrete)):\n",
    "            if j == float(discrete[k]) :\n",
    "                app = one_hot(i,k)\n",
    "                ohe = np.append(ohe, app)\n",
    "                flag = 1\n",
    "                break\n",
    "        if(flag !=1):\n",
    "            ohe = np.append(ohe,X_adult[i][j])\n",
    "    if(i == 0 ):\n",
    "        tohe = ohe.reshape(1,98)\n",
    "    else:\n",
    "        tohe = np.append(tohe,ohe.reshape(1,98),axis = 0)"
   ]
  },
  {
   "cell_type": "code",
   "execution_count": null,
   "metadata": {},
   "outputs": [],
   "source": [
    "with open('adult_test_processedOHE.csv', 'w', newline='') as file:\n",
    "    writer = csv.writer(file)\n",
    "    for i in range (len(tohe)):\n",
    "        writer.writerow(tohe[i])"
   ]
  },
  {
   "cell_type": "code",
   "execution_count": null,
   "metadata": {},
   "outputs": [],
   "source": []
  }
 ],
 "metadata": {
  "kernelspec": {
   "display_name": "Python 3",
   "language": "python",
   "name": "python3"
  },
  "language_info": {
   "codemirror_mode": {
    "name": "ipython",
    "version": 3
   },
   "file_extension": ".py",
   "mimetype": "text/x-python",
   "name": "python",
   "nbconvert_exporter": "python",
   "pygments_lexer": "ipython3",
   "version": "3.6.8"
  }
 },
 "nbformat": 4,
 "nbformat_minor": 2
}
